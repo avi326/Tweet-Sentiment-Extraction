{
  "nbformat": 4,
  "nbformat_minor": 0,
  "metadata": {
    "kernelspec": {
      "display_name": "Python 3",
      "language": "python",
      "name": "python3"
    },
    "language_info": {
      "codemirror_mode": {
        "name": "ipython",
        "version": 3
      },
      "file_extension": ".py",
      "mimetype": "text/x-python",
      "name": "python",
      "nbconvert_exporter": "python",
      "pygments_lexer": "ipython3",
      "version": "3.7.4"
    },
    "widgets": {
      "application/vnd.jupyter.widget-state+json": {}
    },
    "colab": {
      "name": "Tweet_Sentiment_Extraction.ipynb",
      "provenance": []
    }
  },
  "cells": [
    {
      "cell_type": "markdown",
      "metadata": {
        "id": "YW2UosHFB0vi"
      },
      "source": [
        "# Data And Imports"
      ]
    },
    {
      "cell_type": "code",
      "metadata": {
        "colab": {
          "base_uri": "https://localhost:8080/"
        },
        "id": "q-YbjCkzw0yU",
        "outputId": "838fa16a-09ce-4e7d-db7b-95905f35a444"
      },
      "source": [
        "# A dependency of the preprocessing for BERT inputs\n",
        "!pip install -q tensorflow-text"
      ],
      "execution_count": null,
      "outputs": [
        {
          "output_type": "stream",
          "text": [
            "\u001b[K     |████████████████████████████████| 2.6MB 5.8MB/s \n",
            "\u001b[?25h"
          ],
          "name": "stdout"
        }
      ]
    },
    {
      "cell_type": "code",
      "metadata": {
        "colab": {
          "base_uri": "https://localhost:8080/"
        },
        "id": "b-P1ZOA0FkVJ",
        "outputId": "0f070235-0222-471c-82c5-881a5513a6b7"
      },
      "source": [
        "!pip install -q tf-models-official\n",
        "!pip install transformers"
      ],
      "execution_count": null,
      "outputs": [
        {
          "output_type": "stream",
          "text": [
            "\u001b[K     |████████████████████████████████| 849kB 6.1MB/s \n",
            "\u001b[K     |████████████████████████████████| 36.7MB 86kB/s \n",
            "\u001b[K     |████████████████████████████████| 102kB 14.1MB/s \n",
            "\u001b[K     |████████████████████████████████| 1.1MB 56.2MB/s \n",
            "\u001b[K     |████████████████████████████████| 174kB 62.4MB/s \n",
            "\u001b[K     |████████████████████████████████| 358kB 59.2MB/s \n",
            "\u001b[?25h  Building wheel for py-cpuinfo (setup.py) ... \u001b[?25l\u001b[?25hdone\n",
            "Collecting transformers\n",
            "\u001b[?25l  Downloading https://files.pythonhosted.org/packages/99/84/7bc03215279f603125d844bf81c3fb3f2d50fe8e511546eb4897e4be2067/transformers-4.0.0-py3-none-any.whl (1.4MB)\n",
            "\u001b[K     |████████████████████████████████| 1.4MB 4.2MB/s \n",
            "\u001b[?25hRequirement already satisfied: dataclasses; python_version < \"3.7\" in /usr/local/lib/python3.6/dist-packages (from transformers) (0.8)\n",
            "Requirement already satisfied: packaging in /usr/local/lib/python3.6/dist-packages (from transformers) (20.4)\n",
            "Requirement already satisfied: regex!=2019.12.17 in /usr/local/lib/python3.6/dist-packages (from transformers) (2019.12.20)\n",
            "Collecting tokenizers==0.9.4\n",
            "\u001b[?25l  Downloading https://files.pythonhosted.org/packages/0f/1c/e789a8b12e28be5bc1ce2156cf87cb522b379be9cadc7ad8091a4cc107c4/tokenizers-0.9.4-cp36-cp36m-manylinux2010_x86_64.whl (2.9MB)\n",
            "\u001b[K     |████████████████████████████████| 2.9MB 54.1MB/s \n",
            "\u001b[?25hRequirement already satisfied: filelock in /usr/local/lib/python3.6/dist-packages (from transformers) (3.0.12)\n",
            "Requirement already satisfied: requests in /usr/local/lib/python3.6/dist-packages (from transformers) (2.23.0)\n",
            "Requirement already satisfied: tqdm>=4.27 in /usr/local/lib/python3.6/dist-packages (from transformers) (4.41.1)\n",
            "Requirement already satisfied: numpy in /usr/local/lib/python3.6/dist-packages (from transformers) (1.18.5)\n",
            "Collecting sacremoses\n",
            "\u001b[?25l  Downloading https://files.pythonhosted.org/packages/7d/34/09d19aff26edcc8eb2a01bed8e98f13a1537005d31e95233fd48216eed10/sacremoses-0.0.43.tar.gz (883kB)\n",
            "\u001b[K     |████████████████████████████████| 890kB 41.5MB/s \n",
            "\u001b[?25hRequirement already satisfied: six in /usr/local/lib/python3.6/dist-packages (from packaging->transformers) (1.15.0)\n",
            "Requirement already satisfied: pyparsing>=2.0.2 in /usr/local/lib/python3.6/dist-packages (from packaging->transformers) (2.4.7)\n",
            "Requirement already satisfied: certifi>=2017.4.17 in /usr/local/lib/python3.6/dist-packages (from requests->transformers) (2020.11.8)\n",
            "Requirement already satisfied: chardet<4,>=3.0.2 in /usr/local/lib/python3.6/dist-packages (from requests->transformers) (3.0.4)\n",
            "Requirement already satisfied: urllib3!=1.25.0,!=1.25.1,<1.26,>=1.21.1 in /usr/local/lib/python3.6/dist-packages (from requests->transformers) (1.24.3)\n",
            "Requirement already satisfied: idna<3,>=2.5 in /usr/local/lib/python3.6/dist-packages (from requests->transformers) (2.10)\n",
            "Requirement already satisfied: click in /usr/local/lib/python3.6/dist-packages (from sacremoses->transformers) (7.1.2)\n",
            "Requirement already satisfied: joblib in /usr/local/lib/python3.6/dist-packages (from sacremoses->transformers) (0.17.0)\n",
            "Building wheels for collected packages: sacremoses\n",
            "  Building wheel for sacremoses (setup.py) ... \u001b[?25l\u001b[?25hdone\n",
            "  Created wheel for sacremoses: filename=sacremoses-0.0.43-cp36-none-any.whl size=893257 sha256=76859e10735729ce9e245444131332734977e02c0264e9993f049022e04a91a8\n",
            "  Stored in directory: /root/.cache/pip/wheels/29/3c/fd/7ce5c3f0666dab31a50123635e6fb5e19ceb42ce38d4e58f45\n",
            "Successfully built sacremoses\n",
            "Installing collected packages: tokenizers, sacremoses, transformers\n",
            "Successfully installed sacremoses-0.0.43 tokenizers-0.9.4 transformers-4.0.0\n"
          ],
          "name": "stdout"
        }
      ]
    },
    {
      "cell_type": "code",
      "metadata": {
        "colab": {
          "base_uri": "https://localhost:8080/"
        },
        "id": "0E55bpG-DqlY",
        "outputId": "76dc5ed2-4adf-4359-8808-86822f880e9a"
      },
      "source": [
        "from google.colab import drive\n",
        "drive.mount('/content/drive')"
      ],
      "execution_count": null,
      "outputs": [
        {
          "output_type": "stream",
          "text": [
            "Mounted at /content/drive\n"
          ],
          "name": "stdout"
        }
      ]
    },
    {
      "cell_type": "markdown",
      "metadata": {
        "id": "1Z-lrmswCJ_m"
      },
      "source": [
        "Imports"
      ]
    },
    {
      "cell_type": "code",
      "metadata": {
        "id": "b6WQ2fvlCQoL"
      },
      "source": [
        "import os\n",
        "import shutil\n",
        "import numpy as np\n",
        "import tensorflow as tf\n",
        "import tensorflow_hub as hub\n",
        "import tensorflow_text as text\n",
        "from official.nlp import optimization  # to create AdamW optmizer\n",
        "import pandas as pd \n",
        "from transformers import BertTokenizer, TFBertModel, BertConfig\n",
        "from sklearn.model_selection import train_test_split\n",
        "import matplotlib.pyplot as plt\n",
        "\n",
        "tf.get_logger().setLevel('ERROR')"
      ],
      "execution_count": null,
      "outputs": []
    },
    {
      "cell_type": "code",
      "metadata": {
        "colab": {
          "base_uri": "https://localhost:8080/",
          "height": 35
        },
        "id": "f1gKGzxCPz3L",
        "outputId": "c903ff3a-3e23-416c-d6a4-bd10da3fee6a"
      },
      "source": [
        "tf.__version__"
      ],
      "execution_count": null,
      "outputs": [
        {
          "output_type": "execute_result",
          "data": {
            "application/vnd.google.colaboratory.intrinsic+json": {
              "type": "string"
            },
            "text/plain": [
              "'2.3.0'"
            ]
          },
          "metadata": {
            "tags": []
          },
          "execution_count": 5
        }
      ]
    },
    {
      "cell_type": "markdown",
      "metadata": {
        "id": "7ELzDZQvCvqW"
      },
      "source": [
        "Loading the train and test data"
      ]
    },
    {
      "cell_type": "code",
      "metadata": {
        "colab": {
          "base_uri": "https://localhost:8080/"
        },
        "id": "5dDJgGY6D3fs",
        "outputId": "2db1f58e-f97b-4cfb-89a2-b6474dbef6e0"
      },
      "source": [
        "train = pd.read_csv('/content/drive/MyDrive/work/NLP/DEEP_NLP/BERT/train.csv')\n",
        "train = train.dropna()\n",
        "train.shape"
      ],
      "execution_count": null,
      "outputs": [
        {
          "output_type": "execute_result",
          "data": {
            "text/plain": [
              "(27480, 4)"
            ]
          },
          "metadata": {
            "tags": []
          },
          "execution_count": 6
        }
      ]
    },
    {
      "cell_type": "code",
      "metadata": {
        "colab": {
          "base_uri": "https://localhost:8080/"
        },
        "id": "bBedvKAJEbbB",
        "outputId": "a6fbea5b-d931-42d6-ee17-16b34577a9cd"
      },
      "source": [
        "test = pd.read_csv('/content/drive/MyDrive/work/NLP/DEEP_NLP/BERT/test.csv')\n",
        "test = test.dropna()\n",
        "test.shape"
      ],
      "execution_count": null,
      "outputs": [
        {
          "output_type": "execute_result",
          "data": {
            "text/plain": [
              "(3534, 3)"
            ]
          },
          "metadata": {
            "tags": []
          },
          "execution_count": 7
        }
      ]
    },
    {
      "cell_type": "code",
      "metadata": {
        "id": "BdjGIpbfGZMg"
      },
      "source": [
        "# for Debuging, traing on small data\n",
        "train = train.loc[:5000]\n",
        "test = test.loc[:1000]"
      ],
      "execution_count": null,
      "outputs": []
    },
    {
      "cell_type": "code",
      "metadata": {
        "colab": {
          "base_uri": "https://localhost:8080/"
        },
        "id": "cWdMOENVDsIT",
        "outputId": "b870ade8-a7cf-4a39-9571-5421dd4dccf8"
      },
      "source": [
        "train.isnull().sum().sum()"
      ],
      "execution_count": null,
      "outputs": [
        {
          "output_type": "execute_result",
          "data": {
            "text/plain": [
              "0"
            ]
          },
          "metadata": {
            "tags": []
          },
          "execution_count": 9
        }
      ]
    },
    {
      "cell_type": "code",
      "metadata": {
        "id": "mwmGJ9NDDzYP"
      },
      "source": [
        "train = train.reset_index().drop(columns='index')"
      ],
      "execution_count": null,
      "outputs": []
    },
    {
      "cell_type": "markdown",
      "metadata": {
        "id": "rqwGI5o3CH0s"
      },
      "source": [
        "# Preprocessing"
      ]
    },
    {
      "cell_type": "markdown",
      "metadata": {
        "id": "1PyJelJgDGLa"
      },
      "source": [
        "convert the text to ids, "
      ]
    },
    {
      "cell_type": "code",
      "metadata": {
        "colab": {
          "base_uri": "https://localhost:8080/",
          "height": 66,
          "referenced_widgets": [
            "d769ca53d5a6406f87eca677d740ee83",
            "2721d35294c54c19bc9c9e5633edb052",
            "9de5687b30324ae697af487ef64998e8",
            "4cb36cedfa3145e9adeb90a7a05beaa2",
            "f4975ca2c54c4ea1b520fc1cdf74b1f6",
            "991b6c1744d54cdeae6bfb79f860f6b1",
            "031c5fae7f5b4ef89fbe3567d80f4c14",
            "ed8c290121aa48df8d4d47bc1fee64b3"
          ]
        },
        "id": "YB8na3rUDcc9",
        "outputId": "eeb3316b-1354-4d8a-caae-14759a598a01"
      },
      "source": [
        "\n",
        "tokenizer = BertTokenizer.from_pretrained('bert-base-uncased', do_lower_case=True)"
      ],
      "execution_count": null,
      "outputs": [
        {
          "output_type": "display_data",
          "data": {
            "application/vnd.jupyter.widget-view+json": {
              "model_id": "d769ca53d5a6406f87eca677d740ee83",
              "version_minor": 0,
              "version_major": 2
            },
            "text/plain": [
              "HBox(children=(FloatProgress(value=0.0, description='Downloading', max=231508.0, style=ProgressStyle(descripti…"
            ]
          },
          "metadata": {
            "tags": []
          }
        },
        {
          "output_type": "stream",
          "text": [
            "\n"
          ],
          "name": "stdout"
        }
      ]
    },
    {
      "cell_type": "code",
      "metadata": {
        "id": "idKb0TyzFrO3"
      },
      "source": [
        "positive_id = tokenizer(\"positive\")['input_ids'][1]\n",
        "neutral_id = tokenizer(\"neutral\")['input_ids'][1]\n",
        "negative_id = tokenizer(\"negative\")['input_ids'][1]\n"
      ],
      "execution_count": null,
      "outputs": []
    },
    {
      "cell_type": "code",
      "metadata": {
        "id": "ZT6dviLDLQ2-"
      },
      "source": [
        "MAX_LEN = 192\n",
        "sentiment_id = {'positive': positive_id, 'negative': neutral_id, 'neutral': negative_id}"
      ],
      "execution_count": null,
      "outputs": []
    },
    {
      "cell_type": "code",
      "metadata": {
        "id": "N7GdQTywfc83"
      },
      "source": [
        "def find_start_end_ids_selected_text(text, selected_text):\n",
        "    start_tokens = [0] * MAX_LEN\n",
        "    end_tokens = [0] * MAX_LEN\n",
        "\n",
        "    # FIND OVERLAP\n",
        "    text1 = \" \"+\" \".join(text)\n",
        "    text2 = \" \".join(selected_text)\n",
        "    idx = text1.find(text2)\n",
        "    chars = np.zeros((len(text1)))\n",
        "    chars[idx:idx+len(text2)]=1\n",
        "    if text1[idx-1]==' ': chars[idx-1] = 1 \n",
        "    enc = tokenizer(text1) \n",
        "    enc = enc['input_ids'][1:-1]\n",
        "        \n",
        "    # ID_OFFSETS\n",
        "    offsets = []; idx=0\n",
        "    for t in enc:\n",
        "        w = tokenizer.convert_ids_to_tokens([t])\n",
        "        w=w[0]\n",
        "        offsets.append((idx,idx+len(w)))\n",
        "        idx += len(w)\n",
        "    \n",
        "    # START END TOKENS\n",
        "    toks = []\n",
        "    for i,(a,b) in enumerate(offsets):\n",
        "        sm = np.sum(chars[a:b])\n",
        "        if sm>0: toks.append(i) \n",
        "        \n",
        "    if len(toks)>0:\n",
        "        start_tokens[toks[0]+1] = 1\n",
        "        end_tokens[toks[-1]+1] = 1\n",
        "\n",
        "    return start_tokens, end_tokens"
      ],
      "execution_count": null,
      "outputs": []
    },
    {
      "cell_type": "code",
      "metadata": {
        "colab": {
          "base_uri": "https://localhost:8080/"
        },
        "id": "Evq8ACgQ49vP",
        "outputId": "33a1f4dd-4852-4620-cb1e-b675209029d1"
      },
      "source": [
        "input_ids = []\n",
        "attention_mask = []\n",
        "token_type_ids = []\n",
        "start_tokens = []\n",
        "end_tokens = []\n",
        "\n",
        "for i in range(train.shape[0]):\n",
        "    encoded = tokenizer.encode_plus(\n",
        "      train.loc[i,'sentiment'],\n",
        "      train.loc[i,'text'],\n",
        "      add_special_tokens=True,\n",
        "      max_length=MAX_LEN,\n",
        "      padding='max_length',\n",
        "      pad_to_max_length=True,\n",
        "      return_token_type_ids=True,\n",
        "      return_attention_mask=True\n",
        "    )\n",
        "\n",
        "    input_ids.append(encoded['input_ids'])\n",
        "    attention_mask.append(encoded['attention_mask'])\n",
        "    token_type_ids.append(encoded['token_type_ids'])\n",
        "\n",
        "    # find start token and end token of 'selected text'\n",
        "    selected_start_token, selected_end_token = find_start_end_ids_selected_text(train.loc[i,'text'], train.loc[i,'selected_text'])\n",
        "    start_tokens.append(selected_start_token)\n",
        "    end_tokens.append(selected_end_token)\n",
        "\n",
        "# convert list of list to numpy 2d array\n",
        "input_ids = np.array(input_ids, dtype='int32')\n",
        "attention_mask = np.array(attention_mask, dtype='int32')\n",
        "token_type_ids = np.array(token_type_ids, dtype='int32')\n",
        "start_tokens = np.array(start_tokens, dtype='int32')\n",
        "end_tokens = np.array(end_tokens, dtype='int32')\n",
        "\n"
      ],
      "execution_count": null,
      "outputs": [
        {
          "output_type": "stream",
          "text": [
            "/usr/local/lib/python3.6/dist-packages/transformers/tokenization_utils_base.py:2142: FutureWarning: The `pad_to_max_length` argument is deprecated and will be removed in a future version, use `padding=True` or `padding='longest'` to pad to the longest sequence in the batch, or use `padding='max_length'` to pad to a max length. In this case, you can give a specific length with `max_length` (e.g. `max_length=45`) or leave max_length to None to pad to the maximal input size of the model (e.g. 512 for Bert).\n",
            "  FutureWarning,\n"
          ],
          "name": "stderr"
        }
      ]
    },
    {
      "cell_type": "code",
      "metadata": {
        "id": "Os3eBbsEfnTn"
      },
      "source": [
        "assert input_ids.shape == attention_mask.shape == token_type_ids.shape == start_tokens.shape == end_tokens.shape"
      ],
      "execution_count": null,
      "outputs": []
    },
    {
      "cell_type": "markdown",
      "metadata": {
        "id": "JWlrELnSVr5T"
      },
      "source": [
        "prepare test data"
      ]
    },
    {
      "cell_type": "code",
      "metadata": {
        "id": "Fiqc2QUGZg1q"
      },
      "source": [
        "test = test.reset_index().drop(columns='index')"
      ],
      "execution_count": null,
      "outputs": []
    },
    {
      "cell_type": "code",
      "metadata": {
        "id": "QP26W5xJVqal"
      },
      "source": [
        "input_ids_t = []\n",
        "attention_mask_t = []\n",
        "token_type_ids_t = []\n",
        "\n",
        "for i in range(train.shape[0]):\n",
        "    encoded = tokenizer.encode_plus(\n",
        "      train.loc[i,'sentiment'],\n",
        "      train.loc[i,'text'],\n",
        "      add_special_tokens=True,\n",
        "      max_length=MAX_LEN,\n",
        "      padding='max_length',\n",
        "      pad_to_max_length=True,\n",
        "      return_token_type_ids=True,\n",
        "      return_attention_mask=True\n",
        "    )\n",
        "\n",
        "    input_ids_t.append(encoded['input_ids'])\n",
        "    attention_mask_t.append(encoded['attention_mask'])\n",
        "    token_type_ids_t.append(encoded['token_type_ids'])\n",
        "\n",
        "# convert list of list to numpy 2d array\n",
        "input_ids_t = np.array(input_ids_t, dtype='int32')\n",
        "attention_mask_t = np.array(attention_mask_t, dtype='int32')\n",
        "token_type_ids_t = np.array(token_type_ids_t, dtype='int32')\n",
        "\n"
      ],
      "execution_count": null,
      "outputs": []
    },
    {
      "cell_type": "markdown",
      "metadata": {
        "id": "DjCSNJicGtFm"
      },
      "source": [
        "Define function the create validation dataset"
      ]
    },
    {
      "cell_type": "code",
      "metadata": {
        "id": "A_8eKdV7Hwgw"
      },
      "source": [
        "def split_to_train_and_validation(val_ratio, input_ids, attention_mask, token_type_ids, start_tokens, end_tokens):\n",
        "    val_size = int(val_ratio*input_ids.shape[0])\n",
        "\n",
        "    train_dict = dict()\n",
        "    val_dict = dict()\n",
        "\n",
        "    train_dict[\"input_ids\"] = input_ids[:-val_size]\n",
        "    train_dict[\"attention_mask\"] = attention_mask[:-val_size]\n",
        "    train_dict[\"token_type_ids\"] = token_type_ids[:-val_size]\n",
        "    train_dict[\"start_tokens\"] = start_tokens[:-val_size]\n",
        "    train_dict[\"end_tokens\"] = end_tokens[:-val_size]\n",
        "\n",
        "    val_dict[\"input_ids\"] = input_ids[-val_size:]\n",
        "    val_dict[\"attention_mask\"] = attention_mask[-val_size:]\n",
        "    val_dict[\"token_type_ids\"] = token_type_ids[-val_size:]\n",
        "    val_dict[\"start_tokens\"] = start_tokens[-val_size:]\n",
        "    val_dict[\"end_tokens\"] = end_tokens[-val_size:]\n",
        "\n",
        "    return train_dict, val_dict\n"
      ],
      "execution_count": null,
      "outputs": []
    },
    {
      "cell_type": "code",
      "metadata": {
        "id": "5P5foRj_GfLP"
      },
      "source": [
        "train_dict, val_dict = split_to_train_and_validation(0.25, input_ids, attention_mask, token_type_ids, start_tokens, end_tokens)"
      ],
      "execution_count": null,
      "outputs": []
    },
    {
      "cell_type": "markdown",
      "metadata": {
        "id": "j1NALtS8FjoY"
      },
      "source": [
        "# Modeling"
      ]
    },
    {
      "cell_type": "code",
      "metadata": {
        "id": "Dh3HzlKzTzBX"
      },
      "source": [
        "configuration = BertConfig()  # default parameters and configuration for BERT"
      ],
      "execution_count": null,
      "outputs": []
    },
    {
      "cell_type": "code",
      "metadata": {
        "id": "YlSq61sCEqZT"
      },
      "source": [
        "def build_qa_model():\n",
        "    ids = tf.keras.layers.Input((MAX_LEN,), dtype=tf.int32, name=\"input_word_ids\")\n",
        "    att = tf.keras.layers.Input((MAX_LEN,), dtype=tf.int32, name=\"input_mask\")\n",
        "    tok = tf.keras.layers.Input((MAX_LEN,), dtype=tf.int32, name=\"segment_ids\")\n",
        "\n",
        "    bert_encoder = TFBertModel.from_pretrained(\"bert-base-uncased\",config=configuration )\n",
        "    x = bert_encoder(\n",
        "        ids, attention_mask=att, token_type_ids=tok)\n",
        "    \n",
        "    x1 = tf.keras.layers.Dropout(0.1)(x[0]) \n",
        "    x1 = tf.keras.layers.Conv1D(1,1)(x1)\n",
        "    x1 = tf.keras.layers.Flatten()(x1)\n",
        "    x1 = tf.keras.layers.Activation('softmax')(x1)\n",
        "    \n",
        "    x2 = tf.keras.layers.Dropout(0.1)(x[0]) \n",
        "    x2 = tf.keras.layers.Conv1D(1,1)(x2)\n",
        "    x2 = tf.keras.layers.Flatten()(x2)\n",
        "    x2 = tf.keras.layers.Activation('softmax')(x2)\n",
        "\n",
        "    \n",
        "    return tf.keras.models.Model(inputs=[ids, att, tok], outputs=[x1,x2])"
      ],
      "execution_count": null,
      "outputs": []
    },
    {
      "cell_type": "code",
      "metadata": {
        "colab": {
          "base_uri": "https://localhost:8080/",
          "height": 171,
          "referenced_widgets": [
            "6cdc001833b3424086c78f93ead9c229",
            "6abddd8209c84d6eafbface6c908195a",
            "a7091d2192194df4baf24fdb8eb94c74",
            "1fd30deb64d041ddad2bc4b236cf2851",
            "6ecdab690b0d42909dc4f6e6dda4d5ee",
            "0a5924129a264f3b8189d1e8338fc63f",
            "f17bd9bd97fb4d1c88ed13804be0a2b3",
            "eb07f24de6a4453ba028105bbb2c9373"
          ]
        },
        "id": "jNdz43NHEqcG",
        "outputId": "243c4289-77ce-4d3c-e384-77598b87449d"
      },
      "source": [
        "qa_model = build_qa_model()"
      ],
      "execution_count": null,
      "outputs": [
        {
          "output_type": "display_data",
          "data": {
            "application/vnd.jupyter.widget-view+json": {
              "model_id": "6cdc001833b3424086c78f93ead9c229",
              "version_minor": 0,
              "version_major": 2
            },
            "text/plain": [
              "HBox(children=(FloatProgress(value=0.0, description='Downloading', max=536063208.0, style=ProgressStyle(descri…"
            ]
          },
          "metadata": {
            "tags": []
          }
        },
        {
          "output_type": "stream",
          "text": [
            "\n"
          ],
          "name": "stdout"
        },
        {
          "output_type": "stream",
          "text": [
            "Some layers from the model checkpoint at bert-base-uncased were not used when initializing TFBertModel: ['nsp___cls', 'mlm___cls']\n",
            "- This IS expected if you are initializing TFBertModel from the checkpoint of a model trained on another task or with another architecture (e.g. initializing a BertForSequenceClassification model from a BertForPreTraining model).\n",
            "- This IS NOT expected if you are initializing TFBertModel from the checkpoint of a model that you expect to be exactly identical (initializing a BertForSequenceClassification model from a BertForSequenceClassification model).\n",
            "All the layers of TFBertModel were initialized from the model checkpoint at bert-base-uncased.\n",
            "If your task is similar to the task the model of the checkpoint was trained on, you can already use TFBertModel for predictions without further training.\n"
          ],
          "name": "stderr"
        }
      ]
    },
    {
      "cell_type": "code",
      "metadata": {
        "colab": {
          "base_uri": "https://localhost:8080/",
          "height": 584
        },
        "id": "Retv47n8GDBB",
        "outputId": "c461188d-26c2-4946-e6ae-799a94180a2e"
      },
      "source": [
        "tf.keras.utils.plot_model(qa_model)"
      ],
      "execution_count": null,
      "outputs": [
        {
          "output_type": "execute_result",
          "data": {
            "image/png": "[encoded data removed]",
            "text/plain": [
              "<IPython.core.display.Image object>"
            ]
          },
          "metadata": {
            "tags": []
          },
          "execution_count": 147
        }
      ]
    },
    {
      "cell_type": "markdown",
      "metadata": {
        "id": "HUMZQvKMGhFS"
      },
      "source": [
        "Model training"
      ]
    },
    {
      "cell_type": "code",
      "metadata": {
        "id": "Rcu0GvoLGh2F"
      },
      "source": [
        "epochs = 4\n",
        "batch_size = 32\n",
        "optimizer = tf.keras.optimizers.Adam(learning_rate=3e-5)"
      ],
      "execution_count": null,
      "outputs": []
    },
    {
      "cell_type": "markdown",
      "metadata": {
        "id": "RBrKH_qJGpqe"
      },
      "source": [
        "Loading the BERT model and training"
      ]
    },
    {
      "cell_type": "code",
      "metadata": {
        "id": "SX8yn9vlGh4k"
      },
      "source": [
        "qa_model.compile(loss='categorical_crossentropy', optimizer=optimizer)"
      ],
      "execution_count": null,
      "outputs": []
    },
    {
      "cell_type": "code",
      "metadata": {
        "colab": {
          "base_uri": "https://localhost:8080/"
        },
        "id": "cg4CGjiQGh7R",
        "outputId": "8e11fd24-251f-4190-f912-e8b716298081"
      },
      "source": [
        "\n",
        "history = qa_model.fit(x=[train_dict.get(\"input_ids\"), train_dict.get(\"attention_mask\"), train_dict.get(\"token_type_ids\")],\n",
        "                       y=[train_dict.get(\"start_tokens\"),train_dict.get(\"end_tokens\")],\n",
        "                       validation_data = ([val_dict.get(\"input_ids\"), val_dict.get(\"attention_mask\"), val_dict.get(\"token_type_ids\")], [val_dict.get(\"start_tokens\"),val_dict.get(\"end_tokens\")]),\n",
        "                       epochs=epochs,\n",
        "                       batch_size=batch_size)\n"
      ],
      "execution_count": null,
      "outputs": [
        {
          "output_type": "stream",
          "text": [
            "118/118 [==============================] - 94s 796ms/step - loss: 5.7640 - activation_4_loss: 1.9125 - activation_5_loss: 3.8516 - val_loss: 4.9994 - val_activation_4_loss: 1.6565 - val_activation_5_loss: 3.3430\n"
          ],
          "name": "stdout"
        }
      ]
    },
    {
      "cell_type": "markdown",
      "metadata": {
        "id": "-r5jqZq0G_rC"
      },
      "source": [
        "# Evaluate The Model"
      ]
    },
    {
      "cell_type": "markdown",
      "metadata": {
        "id": "dyewVQKwi9b-"
      },
      "source": [
        " predict"
      ]
    },
    {
      "cell_type": "code",
      "metadata": {
        "id": "5OzsPme4G35I"
      },
      "source": [
        "preds = qa_model.predict([input_ids,attention_mask,token_type_ids])"
      ],
      "execution_count": null,
      "outputs": []
    },
    {
      "cell_type": "code",
      "metadata": {
        "id": "8ytrYrosjHcm"
      },
      "source": [
        "pred_start = preds[0]\n",
        "pred_end = preds[1]\n",
        "\n",
        "for k in range(train.shape[0]):\n",
        "    a = np.argmax(pred_start[k])\n",
        "    b = np.argmax(pred_end[k])\n",
        "\n",
        "    if a>b: \n",
        "        st = train.loc[k,'text'] # IMPROVE CV/LB with better choice here\n",
        "    else:\n",
        "        text1 = \" \"+\" \".join(train.loc[k,'text'].split())\n",
        "        enc = tokenizer(text1)\n",
        "        enc = enc['input_ids']   \n",
        "        st = tokenizer.convert_ids_to_tokens(enc[a-1:b])          \n",
        "\n",
        "        train.loc[k, \"pred_selected_text\"] = \" \".join(st)"
      ],
      "execution_count": null,
      "outputs": []
    },
    {
      "cell_type": "code",
      "metadata": {
        "id": "4QJ42Mtyi8TR"
      },
      "source": [
        "def jaccard_similarity(list1, list2):\n",
        "    intersection = len(list(set(list1).intersection(list2)))\n",
        "    union = (len(list1) + len(list2)) - intersection\n",
        "    return float(intersection) / union\n",
        "\n",
        "\n",
        "def jaccard_score(selected_text, pred_selected_text):\n",
        "    all_scores = []\n",
        "\n",
        "    for x, y in zip(selected_text, pred_selected_text):\n",
        "        temp_score = jaccard_similarity(x,  y)\n",
        "        all_scores.append(temp_score)\n",
        "\n",
        "    return sum(all_scores) / len(all_scores)\n",
        "    \n",
        "\n",
        "\n"
      ],
      "execution_count": null,
      "outputs": []
    },
    {
      "cell_type": "code",
      "metadata": {
        "colab": {
          "base_uri": "https://localhost:8080/"
        },
        "id": "pGL4VkUEmppg",
        "outputId": "7b5dd828-b995-4e20-835a-567cac27e7d6"
      },
      "source": [
        "jaccard_score(train[\"selected_text\"],train[\"pred_selected_text\"])"
      ],
      "execution_count": null,
      "outputs": [
        {
          "output_type": "execute_result",
          "data": {
            "text/plain": [
              "0.11171025572478187"
            ]
          },
          "metadata": {
            "tags": []
          },
          "execution_count": 203
        }
      ]
    },
    {
      "cell_type": "code",
      "metadata": {
        "id": "R-w263hljB8U"
      },
      "source": [
        "#TODO:\n",
        "# checking the train and validation separately."
      ],
      "execution_count": null,
      "outputs": []
    },
    {
      "cell_type": "markdown",
      "metadata": {
        "id": "ctXz26GNHISt"
      },
      "source": [
        "Plot the accuracy and loss over time"
      ]
    },
    {
      "cell_type": "code",
      "metadata": {
        "id": "0mv5FUhEHJcB",
        "colab": {
          "base_uri": "https://localhost:8080/"
        },
        "outputId": "13822d0c-a65c-48a2-aad9-3acae7c44644"
      },
      "source": [
        "history_dict = history.history\n",
        "print(history_dict.keys())\n"
      ],
      "execution_count": null,
      "outputs": [
        {
          "output_type": "stream",
          "text": [
            "dict_keys(['loss', 'activation_4_loss', 'activation_5_loss'])\n"
          ],
          "name": "stdout"
        }
      ]
    },
    {
      "cell_type": "code",
      "metadata": {
        "id": "YISqwT0kg7QA",
        "colab": {
          "base_uri": "https://localhost:8080/",
          "height": 421
        },
        "outputId": "0ab0438c-1d03-41fd-e8b2-20fb21575d4d"
      },
      "source": [
        "\n",
        "acc = history_dict['activation_4_loss']\n",
        "val_acc = history_dict['activation_5_loss']\n",
        "\n",
        "epochs = range(1, len(acc) + 1)\n",
        "fig = plt.figure(figsize=(10, 6))\n",
        "fig.tight_layout()\n",
        "\n",
        "plt.plot(epochs, acc, 'r', label='Training acc')\n",
        "plt.plot(epochs, val_acc, 'b', label='Validation acc')\n",
        "plt.title('Training and validation accuracy')\n",
        "plt.xlabel('Epochs')\n",
        "plt.ylabel('Accuracy')\n",
        "plt.legend(loc='lower right')"
      ],
      "execution_count": null,
      "outputs": [
        {
          "output_type": "execute_result",
          "data": {
            "text/plain": [
              "<matplotlib.legend.Legend at 0x7fef92281ef0>"
            ]
          },
          "metadata": {
            "tags": []
          },
          "execution_count": 37
        },
        {
          "output_type": "display_data",
          "data": {
            "image/png": "[encoded data removed]",
            "text/plain": [
              "<Figure size 720x432 with 1 Axes>"
            ]
          },
          "metadata": {
            "tags": [],
            "needs_background": "light"
          }
        }
      ]
    },
    {
      "cell_type": "code",
      "metadata": {
        "id": "epzPkyrMGmTS"
      },
      "source": [
        ""
      ],
      "execution_count": null,
      "outputs": []
    }
  ]
}