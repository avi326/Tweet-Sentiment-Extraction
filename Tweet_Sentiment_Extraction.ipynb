{
  "nbformat": 4,
  "nbformat_minor": 0,
  "metadata": {
    "kernelspec": {
      "display_name": "Python 3",
      "language": "python",
      "name": "python3"
    },
    "language_info": {
      "codemirror_mode": {
        "name": "ipython",
        "version": 3
      },
      "file_extension": ".py",
      "mimetype": "text/x-python",
      "name": "python",
      "nbconvert_exporter": "python",
      "pygments_lexer": "ipython3",
      "version": "3.7.4"
    },
    "widgets": {
      "application/vnd.jupyter.widget-state+json": {
        "06b717e42edc4288bb878622fccdb6dd": {
          "model_module": "@jupyter-widgets/controls",
          "model_name": "HBoxModel",
          "state": {
            "_view_name": "HBoxView",
            "_dom_classes": [],
            "_model_name": "HBoxModel",
            "_view_module": "@jupyter-widgets/controls",
            "_model_module_version": "1.5.0",
            "_view_count": null,
            "_view_module_version": "1.5.0",
            "box_style": "",
            "layout": "IPY_MODEL_960c85bd99164aba994e514e5c3243fc",
            "_model_module": "@jupyter-widgets/controls",
            "children": [
              "IPY_MODEL_53e0c74ad26f4eae930850355d40bad6",
              "IPY_MODEL_d688424f74724a238b7539ff78dc7613"
            ]
          }
        },
        "960c85bd99164aba994e514e5c3243fc": {
          "model_module": "@jupyter-widgets/base",
          "model_name": "LayoutModel",
          "state": {
            "_view_name": "LayoutView",
            "grid_template_rows": null,
            "right": null,
            "justify_content": null,
            "_view_module": "@jupyter-widgets/base",
            "overflow": null,
            "_model_module_version": "1.2.0",
            "_view_count": null,
            "flex_flow": null,
            "width": null,
            "min_width": null,
            "border": null,
            "align_items": null,
            "bottom": null,
            "_model_module": "@jupyter-widgets/base",
            "top": null,
            "grid_column": null,
            "overflow_y": null,
            "overflow_x": null,
            "grid_auto_flow": null,
            "grid_area": null,
            "grid_template_columns": null,
            "flex": null,
            "_model_name": "LayoutModel",
            "justify_items": null,
            "grid_row": null,
            "max_height": null,
            "align_content": null,
            "visibility": null,
            "align_self": null,
            "height": null,
            "min_height": null,
            "padding": null,
            "grid_auto_rows": null,
            "grid_gap": null,
            "max_width": null,
            "order": null,
            "_view_module_version": "1.2.0",
            "grid_template_areas": null,
            "object_position": null,
            "object_fit": null,
            "grid_auto_columns": null,
            "margin": null,
            "display": null,
            "left": null
          }
        },
        "53e0c74ad26f4eae930850355d40bad6": {
          "model_module": "@jupyter-widgets/controls",
          "model_name": "FloatProgressModel",
          "state": {
            "_view_name": "ProgressView",
            "style": "IPY_MODEL_f87e4ec50e32406882634aaff5bd8367",
            "_dom_classes": [],
            "description": "Downloading: 100%",
            "_model_name": "FloatProgressModel",
            "bar_style": "success",
            "max": 231508,
            "_view_module": "@jupyter-widgets/controls",
            "_model_module_version": "1.5.0",
            "value": 231508,
            "_view_count": null,
            "_view_module_version": "1.5.0",
            "orientation": "horizontal",
            "min": 0,
            "description_tooltip": null,
            "_model_module": "@jupyter-widgets/controls",
            "layout": "IPY_MODEL_1ebe279f00e94e38ad8d2d2e21ac4cc9"
          }
        },
        "d688424f74724a238b7539ff78dc7613": {
          "model_module": "@jupyter-widgets/controls",
          "model_name": "HTMLModel",
          "state": {
            "_view_name": "HTMLView",
            "style": "IPY_MODEL_c3fb263c184d4fe390fdb89940044045",
            "_dom_classes": [],
            "description": "",
            "_model_name": "HTMLModel",
            "placeholder": "​",
            "_view_module": "@jupyter-widgets/controls",
            "_model_module_version": "1.5.0",
            "value": " 232k/232k [00:00&lt;00:00, 2.59MB/s]",
            "_view_count": null,
            "_view_module_version": "1.5.0",
            "description_tooltip": null,
            "_model_module": "@jupyter-widgets/controls",
            "layout": "IPY_MODEL_b621bd4565934cdbb8a779aa76c675a1"
          }
        },
        "f87e4ec50e32406882634aaff5bd8367": {
          "model_module": "@jupyter-widgets/controls",
          "model_name": "ProgressStyleModel",
          "state": {
            "_view_name": "StyleView",
            "_model_name": "ProgressStyleModel",
            "description_width": "initial",
            "_view_module": "@jupyter-widgets/base",
            "_model_module_version": "1.5.0",
            "_view_count": null,
            "_view_module_version": "1.2.0",
            "bar_color": null,
            "_model_module": "@jupyter-widgets/controls"
          }
        },
        "1ebe279f00e94e38ad8d2d2e21ac4cc9": {
          "model_module": "@jupyter-widgets/base",
          "model_name": "LayoutModel",
          "state": {
            "_view_name": "LayoutView",
            "grid_template_rows": null,
            "right": null,
            "justify_content": null,
            "_view_module": "@jupyter-widgets/base",
            "overflow": null,
            "_model_module_version": "1.2.0",
            "_view_count": null,
            "flex_flow": null,
            "width": null,
            "min_width": null,
            "border": null,
            "align_items": null,
            "bottom": null,
            "_model_module": "@jupyter-widgets/base",
            "top": null,
            "grid_column": null,
            "overflow_y": null,
            "overflow_x": null,
            "grid_auto_flow": null,
            "grid_area": null,
            "grid_template_columns": null,
            "flex": null,
            "_model_name": "LayoutModel",
            "justify_items": null,
            "grid_row": null,
            "max_height": null,
            "align_content": null,
            "visibility": null,
            "align_self": null,
            "height": null,
            "min_height": null,
            "padding": null,
            "grid_auto_rows": null,
            "grid_gap": null,
            "max_width": null,
            "order": null,
            "_view_module_version": "1.2.0",
            "grid_template_areas": null,
            "object_position": null,
            "object_fit": null,
            "grid_auto_columns": null,
            "margin": null,
            "display": null,
            "left": null
          }
        },
        "c3fb263c184d4fe390fdb89940044045": {
          "model_module": "@jupyter-widgets/controls",
          "model_name": "DescriptionStyleModel",
          "state": {
            "_view_name": "StyleView",
            "_model_name": "DescriptionStyleModel",
            "description_width": "",
            "_view_module": "@jupyter-widgets/base",
            "_model_module_version": "1.5.0",
            "_view_count": null,
            "_view_module_version": "1.2.0",
            "_model_module": "@jupyter-widgets/controls"
          }
        },
        "b621bd4565934cdbb8a779aa76c675a1": {
          "model_module": "@jupyter-widgets/base",
          "model_name": "LayoutModel",
          "state": {
            "_view_name": "LayoutView",
            "grid_template_rows": null,
            "right": null,
            "justify_content": null,
            "_view_module": "@jupyter-widgets/base",
            "overflow": null,
            "_model_module_version": "1.2.0",
            "_view_count": null,
            "flex_flow": null,
            "width": null,
            "min_width": null,
            "border": null,
            "align_items": null,
            "bottom": null,
            "_model_module": "@jupyter-widgets/base",
            "top": null,
            "grid_column": null,
            "overflow_y": null,
            "overflow_x": null,
            "grid_auto_flow": null,
            "grid_area": null,
            "grid_template_columns": null,
            "flex": null,
            "_model_name": "LayoutModel",
            "justify_items": null,
            "grid_row": null,
            "max_height": null,
            "align_content": null,
            "visibility": null,
            "align_self": null,
            "height": null,
            "min_height": null,
            "padding": null,
            "grid_auto_rows": null,
            "grid_gap": null,
            "max_width": null,
            "order": null,
            "_view_module_version": "1.2.0",
            "grid_template_areas": null,
            "object_position": null,
            "object_fit": null,
            "grid_auto_columns": null,
            "margin": null,
            "display": null,
            "left": null
          }
        },
        "a97c9bf4678e4b37bf0a43344011f9ee": {
          "model_module": "@jupyter-widgets/controls",
          "model_name": "HBoxModel",
          "state": {
            "_view_name": "HBoxView",
            "_dom_classes": [],
            "_model_name": "HBoxModel",
            "_view_module": "@jupyter-widgets/controls",
            "_model_module_version": "1.5.0",
            "_view_count": null,
            "_view_module_version": "1.5.0",
            "box_style": "",
            "layout": "IPY_MODEL_036d402b53164745be199d0dff4bc1e1",
            "_model_module": "@jupyter-widgets/controls",
            "children": [
              "IPY_MODEL_60c8df9e0be64a258f90ac8f81aa6dce",
              "IPY_MODEL_2e7b67adde3f45d4bf13778830b3b04d"
            ]
          }
        },
        "036d402b53164745be199d0dff4bc1e1": {
          "model_module": "@jupyter-widgets/base",
          "model_name": "LayoutModel",
          "state": {
            "_view_name": "LayoutView",
            "grid_template_rows": null,
            "right": null,
            "justify_content": null,
            "_view_module": "@jupyter-widgets/base",
            "overflow": null,
            "_model_module_version": "1.2.0",
            "_view_count": null,
            "flex_flow": null,
            "width": null,
            "min_width": null,
            "border": null,
            "align_items": null,
            "bottom": null,
            "_model_module": "@jupyter-widgets/base",
            "top": null,
            "grid_column": null,
            "overflow_y": null,
            "overflow_x": null,
            "grid_auto_flow": null,
            "grid_area": null,
            "grid_template_columns": null,
            "flex": null,
            "_model_name": "LayoutModel",
            "justify_items": null,
            "grid_row": null,
            "max_height": null,
            "align_content": null,
            "visibility": null,
            "align_self": null,
            "height": null,
            "min_height": null,
            "padding": null,
            "grid_auto_rows": null,
            "grid_gap": null,
            "max_width": null,
            "order": null,
            "_view_module_version": "1.2.0",
            "grid_template_areas": null,
            "object_position": null,
            "object_fit": null,
            "grid_auto_columns": null,
            "margin": null,
            "display": null,
            "left": null
          }
        },
        "60c8df9e0be64a258f90ac8f81aa6dce": {
          "model_module": "@jupyter-widgets/controls",
          "model_name": "FloatProgressModel",
          "state": {
            "_view_name": "ProgressView",
            "style": "IPY_MODEL_88efcd1ba98f44a18f598555cddee870",
            "_dom_classes": [],
            "description": "Downloading: 100%",
            "_model_name": "FloatProgressModel",
            "bar_style": "success",
            "max": 536063208,
            "_view_module": "@jupyter-widgets/controls",
            "_model_module_version": "1.5.0",
            "value": 536063208,
            "_view_count": null,
            "_view_module_version": "1.5.0",
            "orientation": "horizontal",
            "min": 0,
            "description_tooltip": null,
            "_model_module": "@jupyter-widgets/controls",
            "layout": "IPY_MODEL_c78ccb1bf85d485f83e94056845f1691"
          }
        },
        "2e7b67adde3f45d4bf13778830b3b04d": {
          "model_module": "@jupyter-widgets/controls",
          "model_name": "HTMLModel",
          "state": {
            "_view_name": "HTMLView",
            "style": "IPY_MODEL_623efa27dbae48b284952eab2cbf1e95",
            "_dom_classes": [],
            "description": "",
            "_model_name": "HTMLModel",
            "placeholder": "​",
            "_view_module": "@jupyter-widgets/controls",
            "_model_module_version": "1.5.0",
            "value": " 536M/536M [00:07&lt;00:00, 71.5MB/s]",
            "_view_count": null,
            "_view_module_version": "1.5.0",
            "description_tooltip": null,
            "_model_module": "@jupyter-widgets/controls",
            "layout": "IPY_MODEL_c3b859d07353454abf80dae10ef5900d"
          }
        },
        "88efcd1ba98f44a18f598555cddee870": {
          "model_module": "@jupyter-widgets/controls",
          "model_name": "ProgressStyleModel",
          "state": {
            "_view_name": "StyleView",
            "_model_name": "ProgressStyleModel",
            "description_width": "initial",
            "_view_module": "@jupyter-widgets/base",
            "_model_module_version": "1.5.0",
            "_view_count": null,
            "_view_module_version": "1.2.0",
            "bar_color": null,
            "_model_module": "@jupyter-widgets/controls"
          }
        },
        "c78ccb1bf85d485f83e94056845f1691": {
          "model_module": "@jupyter-widgets/base",
          "model_name": "LayoutModel",
          "state": {
            "_view_name": "LayoutView",
            "grid_template_rows": null,
            "right": null,
            "justify_content": null,
            "_view_module": "@jupyter-widgets/base",
            "overflow": null,
            "_model_module_version": "1.2.0",
            "_view_count": null,
            "flex_flow": null,
            "width": null,
            "min_width": null,
            "border": null,
            "align_items": null,
            "bottom": null,
            "_model_module": "@jupyter-widgets/base",
            "top": null,
            "grid_column": null,
            "overflow_y": null,
            "overflow_x": null,
            "grid_auto_flow": null,
            "grid_area": null,
            "grid_template_columns": null,
            "flex": null,
            "_model_name": "LayoutModel",
            "justify_items": null,
            "grid_row": null,
            "max_height": null,
            "align_content": null,
            "visibility": null,
            "align_self": null,
            "height": null,
            "min_height": null,
            "padding": null,
            "grid_auto_rows": null,
            "grid_gap": null,
            "max_width": null,
            "order": null,
            "_view_module_version": "1.2.0",
            "grid_template_areas": null,
            "object_position": null,
            "object_fit": null,
            "grid_auto_columns": null,
            "margin": null,
            "display": null,
            "left": null
          }
        },
        "623efa27dbae48b284952eab2cbf1e95": {
          "model_module": "@jupyter-widgets/controls",
          "model_name": "DescriptionStyleModel",
          "state": {
            "_view_name": "StyleView",
            "_model_name": "DescriptionStyleModel",
            "description_width": "",
            "_view_module": "@jupyter-widgets/base",
            "_model_module_version": "1.5.0",
            "_view_count": null,
            "_view_module_version": "1.2.0",
            "_model_module": "@jupyter-widgets/controls"
          }
        },
        "c3b859d07353454abf80dae10ef5900d": {
          "model_module": "@jupyter-widgets/base",
          "model_name": "LayoutModel",
          "state": {
            "_view_name": "LayoutView",
            "grid_template_rows": null,
            "right": null,
            "justify_content": null,
            "_view_module": "@jupyter-widgets/base",
            "overflow": null,
            "_model_module_version": "1.2.0",
            "_view_count": null,
            "flex_flow": null,
            "width": null,
            "min_width": null,
            "border": null,
            "align_items": null,
            "bottom": null,
            "_model_module": "@jupyter-widgets/base",
            "top": null,
            "grid_column": null,
            "overflow_y": null,
            "overflow_x": null,
            "grid_auto_flow": null,
            "grid_area": null,
            "grid_template_columns": null,
            "flex": null,
            "_model_name": "LayoutModel",
            "justify_items": null,
            "grid_row": null,
            "max_height": null,
            "align_content": null,
            "visibility": null,
            "align_self": null,
            "height": null,
            "min_height": null,
            "padding": null,
            "grid_auto_rows": null,
            "grid_gap": null,
            "max_width": null,
            "order": null,
            "_view_module_version": "1.2.0",
            "grid_template_areas": null,
            "object_position": null,
            "object_fit": null,
            "grid_auto_columns": null,
            "margin": null,
            "display": null,
            "left": null
          }
        }
      }
    },
    "colab": {
      "name": "Tweet_Sentiment_Extraction.ipynb",
      "provenance": []
    },
    "accelerator": "GPU"
  },
  "cells": [
    {
      "cell_type": "markdown",
      "metadata": {
        "id": "YW2UosHFB0vi"
      },
      "source": [
        "# Data And Imports"
      ]
    },
    {
      "cell_type": "code",
      "metadata": {
        "colab": {
          "base_uri": "https://localhost:8080/"
        },
        "id": "q-YbjCkzw0yU",
        "outputId": "89707c4a-8ff5-4dab-98b6-55dc8b49b92a"
      },
      "source": [
        "# A dependency of the preprocessing for BERT inputs\n",
        "!pip install -q tensorflow-text"
      ],
      "execution_count": 1,
      "outputs": [
        {
          "output_type": "stream",
          "text": [
            "\u001b[?25l\r\u001b[K     |▏                               | 10kB 29.8MB/s eta 0:00:01\r\u001b[K     |▎                               | 20kB 36.6MB/s eta 0:00:01\r\u001b[K     |▍                               | 30kB 41.1MB/s eta 0:00:01\r\u001b[K     |▌                               | 40kB 34.2MB/s eta 0:00:01\r\u001b[K     |▋                               | 51kB 36.3MB/s eta 0:00:01\r\u001b[K     |▊                               | 61kB 39.0MB/s eta 0:00:01\r\u001b[K     |▉                               | 71kB 26.8MB/s eta 0:00:01\r\u001b[K     |█                               | 81kB 23.6MB/s eta 0:00:01\r\u001b[K     |█▏                              | 92kB 25.2MB/s eta 0:00:01\r\u001b[K     |█▎                              | 102kB 22.8MB/s eta 0:00:01\r\u001b[K     |█▍                              | 112kB 22.8MB/s eta 0:00:01\r\u001b[K     |█▌                              | 122kB 22.8MB/s eta 0:00:01\r\u001b[K     |█▋                              | 133kB 22.8MB/s eta 0:00:01\r\u001b[K     |█▊                              | 143kB 22.8MB/s eta 0:00:01\r\u001b[K     |█▉                              | 153kB 22.8MB/s eta 0:00:01\r\u001b[K     |██                              | 163kB 22.8MB/s eta 0:00:01\r\u001b[K     |██▏                             | 174kB 22.8MB/s eta 0:00:01\r\u001b[K     |██▎                             | 184kB 22.8MB/s eta 0:00:01\r\u001b[K     |██▍                             | 194kB 22.8MB/s eta 0:00:01\r\u001b[K     |██▌                             | 204kB 22.8MB/s eta 0:00:01\r\u001b[K     |██▋                             | 215kB 22.8MB/s eta 0:00:01\r\u001b[K     |██▊                             | 225kB 22.8MB/s eta 0:00:01\r\u001b[K     |██▉                             | 235kB 22.8MB/s eta 0:00:01\r\u001b[K     |███                             | 245kB 22.8MB/s eta 0:00:01\r\u001b[K     |███▏                            | 256kB 22.8MB/s eta 0:00:01\r\u001b[K     |███▎                            | 266kB 22.8MB/s eta 0:00:01\r\u001b[K     |███▍                            | 276kB 22.8MB/s eta 0:00:01\r\u001b[K     |███▌                            | 286kB 22.8MB/s eta 0:00:01\r\u001b[K     |███▋                            | 296kB 22.8MB/s eta 0:00:01\r\u001b[K     |███▊                            | 307kB 22.8MB/s eta 0:00:01\r\u001b[K     |███▉                            | 317kB 22.8MB/s eta 0:00:01\r\u001b[K     |████                            | 327kB 22.8MB/s eta 0:00:01\r\u001b[K     |████                            | 337kB 22.8MB/s eta 0:00:01\r\u001b[K     |████▎                           | 348kB 22.8MB/s eta 0:00:01\r\u001b[K     |████▍                           | 358kB 22.8MB/s eta 0:00:01\r\u001b[K     |████▌                           | 368kB 22.8MB/s eta 0:00:01\r\u001b[K     |████▋                           | 378kB 22.8MB/s eta 0:00:01\r\u001b[K     |████▊                           | 389kB 22.8MB/s eta 0:00:01\r\u001b[K     |████▉                           | 399kB 22.8MB/s eta 0:00:01\r\u001b[K     |█████                           | 409kB 22.8MB/s eta 0:00:01\r\u001b[K     |█████                           | 419kB 22.8MB/s eta 0:00:01\r\u001b[K     |█████▎                          | 430kB 22.8MB/s eta 0:00:01\r\u001b[K     |█████▍                          | 440kB 22.8MB/s eta 0:00:01\r\u001b[K     |█████▌                          | 450kB 22.8MB/s eta 0:00:01\r\u001b[K     |█████▋                          | 460kB 22.8MB/s eta 0:00:01\r\u001b[K     |█████▊                          | 471kB 22.8MB/s eta 0:00:01\r\u001b[K     |█████▉                          | 481kB 22.8MB/s eta 0:00:01\r\u001b[K     |██████                          | 491kB 22.8MB/s eta 0:00:01\r\u001b[K     |██████                          | 501kB 22.8MB/s eta 0:00:01\r\u001b[K     |██████▎                         | 512kB 22.8MB/s eta 0:00:01\r\u001b[K     |██████▍                         | 522kB 22.8MB/s eta 0:00:01\r\u001b[K     |██████▌                         | 532kB 22.8MB/s eta 0:00:01\r\u001b[K     |██████▋                         | 542kB 22.8MB/s eta 0:00:01\r\u001b[K     |██████▊                         | 552kB 22.8MB/s eta 0:00:01\r\u001b[K     |██████▉                         | 563kB 22.8MB/s eta 0:00:01\r\u001b[K     |███████                         | 573kB 22.8MB/s eta 0:00:01\r\u001b[K     |███████                         | 583kB 22.8MB/s eta 0:00:01\r\u001b[K     |███████▏                        | 593kB 22.8MB/s eta 0:00:01\r\u001b[K     |███████▍                        | 604kB 22.8MB/s eta 0:00:01\r\u001b[K     |███████▌                        | 614kB 22.8MB/s eta 0:00:01\r\u001b[K     |███████▋                        | 624kB 22.8MB/s eta 0:00:01\r\u001b[K     |███████▊                        | 634kB 22.8MB/s eta 0:00:01\r\u001b[K     |███████▉                        | 645kB 22.8MB/s eta 0:00:01\r\u001b[K     |████████                        | 655kB 22.8MB/s eta 0:00:01\r\u001b[K     |████████                        | 665kB 22.8MB/s eta 0:00:01\r\u001b[K     |████████▏                       | 675kB 22.8MB/s eta 0:00:01\r\u001b[K     |████████▍                       | 686kB 22.8MB/s eta 0:00:01\r\u001b[K     |████████▌                       | 696kB 22.8MB/s eta 0:00:01\r\u001b[K     |████████▋                       | 706kB 22.8MB/s eta 0:00:01\r\u001b[K     |████████▊                       | 716kB 22.8MB/s eta 0:00:01\r\u001b[K     |████████▉                       | 727kB 22.8MB/s eta 0:00:01\r\u001b[K     |█████████                       | 737kB 22.8MB/s eta 0:00:01\r\u001b[K     |█████████                       | 747kB 22.8MB/s eta 0:00:01\r\u001b[K     |█████████▏                      | 757kB 22.8MB/s eta 0:00:01\r\u001b[K     |█████████▍                      | 768kB 22.8MB/s eta 0:00:01\r\u001b[K     |█████████▌                      | 778kB 22.8MB/s eta 0:00:01\r\u001b[K     |█████████▋                      | 788kB 22.8MB/s eta 0:00:01\r\u001b[K     |█████████▊                      | 798kB 22.8MB/s eta 0:00:01\r\u001b[K     |█████████▉                      | 808kB 22.8MB/s eta 0:00:01\r\u001b[K     |██████████                      | 819kB 22.8MB/s eta 0:00:01\r\u001b[K     |██████████                      | 829kB 22.8MB/s eta 0:00:01\r\u001b[K     |██████████▏                     | 839kB 22.8MB/s eta 0:00:01\r\u001b[K     |██████████▎                     | 849kB 22.8MB/s eta 0:00:01\r\u001b[K     |██████████▌                     | 860kB 22.8MB/s eta 0:00:01\r\u001b[K     |██████████▋                     | 870kB 22.8MB/s eta 0:00:01\r\u001b[K     |██████████▊                     | 880kB 22.8MB/s eta 0:00:01\r\u001b[K     |██████████▉                     | 890kB 22.8MB/s eta 0:00:01\r\u001b[K     |███████████                     | 901kB 22.8MB/s eta 0:00:01\r\u001b[K     |███████████                     | 911kB 22.8MB/s eta 0:00:01\r\u001b[K     |███████████▏                    | 921kB 22.8MB/s eta 0:00:01\r\u001b[K     |███████████▎                    | 931kB 22.8MB/s eta 0:00:01\r\u001b[K     |███████████▌                    | 942kB 22.8MB/s eta 0:00:01\r\u001b[K     |███████████▋                    | 952kB 22.8MB/s eta 0:00:01\r\u001b[K     |███████████▊                    | 962kB 22.8MB/s eta 0:00:01\r\u001b[K     |███████████▉                    | 972kB 22.8MB/s eta 0:00:01\r\u001b[K     |████████████                    | 983kB 22.8MB/s eta 0:00:01\r\u001b[K     |████████████                    | 993kB 22.8MB/s eta 0:00:01\r\u001b[K     |████████████▏                   | 1.0MB 22.8MB/s eta 0:00:01\r\u001b[K     |████████████▎                   | 1.0MB 22.8MB/s eta 0:00:01\r\u001b[K     |████████████▌                   | 1.0MB 22.8MB/s eta 0:00:01\r\u001b[K     |████████████▋                   | 1.0MB 22.8MB/s eta 0:00:01\r\u001b[K     |████████████▊                   | 1.0MB 22.8MB/s eta 0:00:01\r\u001b[K     |████████████▉                   | 1.1MB 22.8MB/s eta 0:00:01\r\u001b[K     |█████████████                   | 1.1MB 22.8MB/s eta 0:00:01\r\u001b[K     |█████████████                   | 1.1MB 22.8MB/s eta 0:00:01\r\u001b[K     |█████████████▏                  | 1.1MB 22.8MB/s eta 0:00:01\r\u001b[K     |█████████████▎                  | 1.1MB 22.8MB/s eta 0:00:01\r\u001b[K     |█████████████▍                  | 1.1MB 22.8MB/s eta 0:00:01\r\u001b[K     |█████████████▋                  | 1.1MB 22.8MB/s eta 0:00:01\r\u001b[K     |█████████████▊                  | 1.1MB 22.8MB/s eta 0:00:01\r\u001b[K     |█████████████▉                  | 1.1MB 22.8MB/s eta 0:00:01\r\u001b[K     |██████████████                  | 1.1MB 22.8MB/s eta 0:00:01\r\u001b[K     |██████████████                  | 1.2MB 22.8MB/s eta 0:00:01\r\u001b[K     |██████████████▏                 | 1.2MB 22.8MB/s eta 0:00:01\r\u001b[K     |██████████████▎                 | 1.2MB 22.8MB/s eta 0:00:01\r\u001b[K     |██████████████▍                 | 1.2MB 22.8MB/s eta 0:00:01\r\u001b[K     |██████████████▋                 | 1.2MB 22.8MB/s eta 0:00:01\r\u001b[K     |██████████████▊                 | 1.2MB 22.8MB/s eta 0:00:01\r\u001b[K     |██████████████▉                 | 1.2MB 22.8MB/s eta 0:00:01\r\u001b[K     |███████████████                 | 1.2MB 22.8MB/s eta 0:00:01\r\u001b[K     |███████████████                 | 1.2MB 22.8MB/s eta 0:00:01\r\u001b[K     |███████████████▏                | 1.2MB 22.8MB/s eta 0:00:01\r\u001b[K     |███████████████▎                | 1.3MB 22.8MB/s eta 0:00:01\r\u001b[K     |███████████████▍                | 1.3MB 22.8MB/s eta 0:00:01\r\u001b[K     |███████████████▋                | 1.3MB 22.8MB/s eta 0:00:01\r\u001b[K     |███████████████▊                | 1.3MB 22.8MB/s eta 0:00:01\r\u001b[K     |███████████████▉                | 1.3MB 22.8MB/s eta 0:00:01\r\u001b[K     |████████████████                | 1.3MB 22.8MB/s eta 0:00:01\r\u001b[K     |████████████████                | 1.3MB 22.8MB/s eta 0:00:01\r\u001b[K     |████████████████▏               | 1.3MB 22.8MB/s eta 0:00:01\r\u001b[K     |████████████████▎               | 1.3MB 22.8MB/s eta 0:00:01\r\u001b[K     |████████████████▍               | 1.4MB 22.8MB/s eta 0:00:01\r\u001b[K     |████████████████▌               | 1.4MB 22.8MB/s eta 0:00:01\r\u001b[K     |████████████████▊               | 1.4MB 22.8MB/s eta 0:00:01\r\u001b[K     |████████████████▉               | 1.4MB 22.8MB/s eta 0:00:01\r\u001b[K     |█████████████████               | 1.4MB 22.8MB/s eta 0:00:01\r\u001b[K     |█████████████████               | 1.4MB 22.8MB/s eta 0:00:01\r\u001b[K     |█████████████████▏              | 1.4MB 22.8MB/s eta 0:00:01\r\u001b[K     |█████████████████▎              | 1.4MB 22.8MB/s eta 0:00:01\r\u001b[K     |█████████████████▍              | 1.4MB 22.8MB/s eta 0:00:01\r\u001b[K     |█████████████████▌              | 1.4MB 22.8MB/s eta 0:00:01\r\u001b[K     |█████████████████▊              | 1.5MB 22.8MB/s eta 0:00:01\r\u001b[K     |█████████████████▉              | 1.5MB 22.8MB/s eta 0:00:01\r\u001b[K     |██████████████████              | 1.5MB 22.8MB/s eta 0:00:01\r\u001b[K     |██████████████████              | 1.5MB 22.8MB/s eta 0:00:01\r\u001b[K     |██████████████████▏             | 1.5MB 22.8MB/s eta 0:00:01\r\u001b[K     |██████████████████▎             | 1.5MB 22.8MB/s eta 0:00:01\r\u001b[K     |██████████████████▍             | 1.5MB 22.8MB/s eta 0:00:01\r\u001b[K     |██████████████████▌             | 1.5MB 22.8MB/s eta 0:00:01\r\u001b[K     |██████████████████▊             | 1.5MB 22.8MB/s eta 0:00:01\r\u001b[K     |██████████████████▉             | 1.5MB 22.8MB/s eta 0:00:01\r\u001b[K     |███████████████████             | 1.6MB 22.8MB/s eta 0:00:01\r\u001b[K     |███████████████████             | 1.6MB 22.8MB/s eta 0:00:01\r\u001b[K     |███████████████████▏            | 1.6MB 22.8MB/s eta 0:00:01\r\u001b[K     |███████████████████▎            | 1.6MB 22.8MB/s eta 0:00:01\r\u001b[K     |███████████████████▍            | 1.6MB 22.8MB/s eta 0:00:01\r\u001b[K     |███████████████████▌            | 1.6MB 22.8MB/s eta 0:00:01\r\u001b[K     |███████████████████▋            | 1.6MB 22.8MB/s eta 0:00:01\r\u001b[K     |███████████████████▉            | 1.6MB 22.8MB/s eta 0:00:01\r\u001b[K     |████████████████████            | 1.6MB 22.8MB/s eta 0:00:01\r\u001b[K     |████████████████████            | 1.6MB 22.8MB/s eta 0:00:01\r\u001b[K     |████████████████████▏           | 1.7MB 22.8MB/s eta 0:00:01\r\u001b[K     |████████████████████▎           | 1.7MB 22.8MB/s eta 0:00:01\r\u001b[K     |████████████████████▍           | 1.7MB 22.8MB/s eta 0:00:01\r\u001b[K     |████████████████████▌           | 1.7MB 22.8MB/s eta 0:00:01\r\u001b[K     |████████████████████▋           | 1.7MB 22.8MB/s eta 0:00:01\r\u001b[K     |████████████████████▉           | 1.7MB 22.8MB/s eta 0:00:01\r\u001b[K     |█████████████████████           | 1.7MB 22.8MB/s eta 0:00:01\r\u001b[K     |█████████████████████           | 1.7MB 22.8MB/s eta 0:00:01\r\u001b[K     |█████████████████████▏          | 1.7MB 22.8MB/s eta 0:00:01\r\u001b[K     |█████████████████████▎          | 1.8MB 22.8MB/s eta 0:00:01\r\u001b[K     |█████████████████████▍          | 1.8MB 22.8MB/s eta 0:00:01\r\u001b[K     |█████████████████████▌          | 1.8MB 22.8MB/s eta 0:00:01\r\u001b[K     |█████████████████████▋          | 1.8MB 22.8MB/s eta 0:00:01\r\u001b[K     |█████████████████████▉          | 1.8MB 22.8MB/s eta 0:00:01\r\u001b[K     |██████████████████████          | 1.8MB 22.8MB/s eta 0:00:01\r\u001b[K     |██████████████████████          | 1.8MB 22.8MB/s eta 0:00:01\r\u001b[K     |██████████████████████▏         | 1.8MB 22.8MB/s eta 0:00:01\r\u001b[K     |██████████████████████▎         | 1.8MB 22.8MB/s eta 0:00:01\r\u001b[K     |██████████████████████▍         | 1.8MB 22.8MB/s eta 0:00:01\r\u001b[K     |██████████████████████▌         | 1.9MB 22.8MB/s eta 0:00:01\r\u001b[K     |██████████████████████▋         | 1.9MB 22.8MB/s eta 0:00:01\r\u001b[K     |██████████████████████▊         | 1.9MB 22.8MB/s eta 0:00:01\r\u001b[K     |███████████████████████         | 1.9MB 22.8MB/s eta 0:00:01\r\u001b[K     |███████████████████████         | 1.9MB 22.8MB/s eta 0:00:01\r\u001b[K     |███████████████████████▏        | 1.9MB 22.8MB/s eta 0:00:01\r\u001b[K     |███████████████████████▎        | 1.9MB 22.8MB/s eta 0:00:01\r\u001b[K     |███████████████████████▍        | 1.9MB 22.8MB/s eta 0:00:01\r\u001b[K     |███████████████████████▌        | 1.9MB 22.8MB/s eta 0:00:01\r\u001b[K     |███████████████████████▋        | 1.9MB 22.8MB/s eta 0:00:01\r\u001b[K     |███████████████████████▊        | 2.0MB 22.8MB/s eta 0:00:01\r\u001b[K     |████████████████████████        | 2.0MB 22.8MB/s eta 0:00:01\r\u001b[K     |████████████████████████        | 2.0MB 22.8MB/s eta 0:00:01\r\u001b[K     |████████████████████████▏       | 2.0MB 22.8MB/s eta 0:00:01\r\u001b[K     |████████████████████████▎       | 2.0MB 22.8MB/s eta 0:00:01\r\u001b[K     |████████████████████████▍       | 2.0MB 22.8MB/s eta 0:00:01\r\u001b[K     |████████████████████████▌       | 2.0MB 22.8MB/s eta 0:00:01\r\u001b[K     |████████████████████████▋       | 2.0MB 22.8MB/s eta 0:00:01\r\u001b[K     |████████████████████████▊       | 2.0MB 22.8MB/s eta 0:00:01\r\u001b[K     |█████████████████████████       | 2.0MB 22.8MB/s eta 0:00:01\r\u001b[K     |█████████████████████████       | 2.1MB 22.8MB/s eta 0:00:01\r\u001b[K     |█████████████████████████▏      | 2.1MB 22.8MB/s eta 0:00:01\r\u001b[K     |█████████████████████████▎      | 2.1MB 22.8MB/s eta 0:00:01\r\u001b[K     |█████████████████████████▍      | 2.1MB 22.8MB/s eta 0:00:01\r\u001b[K     |█████████████████████████▌      | 2.1MB 22.8MB/s eta 0:00:01\r\u001b[K     |█████████████████████████▋      | 2.1MB 22.8MB/s eta 0:00:01\r\u001b[K     |█████████████████████████▊      | 2.1MB 22.8MB/s eta 0:00:01\r\u001b[K     |██████████████████████████      | 2.1MB 22.8MB/s eta 0:00:01\r\u001b[K     |██████████████████████████      | 2.1MB 22.8MB/s eta 0:00:01\r\u001b[K     |██████████████████████████▏     | 2.2MB 22.8MB/s eta 0:00:01\r\u001b[K     |██████████████████████████▎     | 2.2MB 22.8MB/s eta 0:00:01\r\u001b[K     |██████████████████████████▍     | 2.2MB 22.8MB/s eta 0:00:01\r\u001b[K     |██████████████████████████▌     | 2.2MB 22.8MB/s eta 0:00:01\r\u001b[K     |██████████████████████████▋     | 2.2MB 22.8MB/s eta 0:00:01\r\u001b[K     |██████████████████████████▊     | 2.2MB 22.8MB/s eta 0:00:01\r\u001b[K     |██████████████████████████▉     | 2.2MB 22.8MB/s eta 0:00:01\r\u001b[K     |███████████████████████████     | 2.2MB 22.8MB/s eta 0:00:01\r\u001b[K     |███████████████████████████▏    | 2.2MB 22.8MB/s eta 0:00:01\r\u001b[K     |███████████████████████████▎    | 2.2MB 22.8MB/s eta 0:00:01\r\u001b[K     |███████████████████████████▍    | 2.3MB 22.8MB/s eta 0:00:01\r\u001b[K     |███████████████████████████▌    | 2.3MB 22.8MB/s eta 0:00:01\r\u001b[K     |███████████████████████████▋    | 2.3MB 22.8MB/s eta 0:00:01\r\u001b[K     |███████████████████████████▊    | 2.3MB 22.8MB/s eta 0:00:01\r\u001b[K     |███████████████████████████▉    | 2.3MB 22.8MB/s eta 0:00:01\r\u001b[K     |████████████████████████████    | 2.3MB 22.8MB/s eta 0:00:01\r\u001b[K     |████████████████████████████▏   | 2.3MB 22.8MB/s eta 0:00:01\r\u001b[K     |████████████████████████████▎   | 2.3MB 22.8MB/s eta 0:00:01\r\u001b[K     |████████████████████████████▍   | 2.3MB 22.8MB/s eta 0:00:01\r\u001b[K     |████████████████████████████▌   | 2.3MB 22.8MB/s eta 0:00:01\r\u001b[K     |████████████████████████████▋   | 2.4MB 22.8MB/s eta 0:00:01\r\u001b[K     |████████████████████████████▊   | 2.4MB 22.8MB/s eta 0:00:01\r\u001b[K     |████████████████████████████▉   | 2.4MB 22.8MB/s eta 0:00:01\r\u001b[K     |█████████████████████████████   | 2.4MB 22.8MB/s eta 0:00:01\r\u001b[K     |█████████████████████████████▏  | 2.4MB 22.8MB/s eta 0:00:01\r\u001b[K     |█████████████████████████████▎  | 2.4MB 22.8MB/s eta 0:00:01\r\u001b[K     |█████████████████████████████▍  | 2.4MB 22.8MB/s eta 0:00:01\r\u001b[K     |█████████████████████████████▌  | 2.4MB 22.8MB/s eta 0:00:01\r\u001b[K     |█████████████████████████████▋  | 2.4MB 22.8MB/s eta 0:00:01\r\u001b[K     |█████████████████████████████▊  | 2.4MB 22.8MB/s eta 0:00:01\r\u001b[K     |█████████████████████████████▉  | 2.5MB 22.8MB/s eta 0:00:01\r\u001b[K     |██████████████████████████████  | 2.5MB 22.8MB/s eta 0:00:01\r\u001b[K     |██████████████████████████████▏ | 2.5MB 22.8MB/s eta 0:00:01\r\u001b[K     |██████████████████████████████▎ | 2.5MB 22.8MB/s eta 0:00:01\r\u001b[K     |██████████████████████████████▍ | 2.5MB 22.8MB/s eta 0:00:01\r\u001b[K     |██████████████████████████████▌ | 2.5MB 22.8MB/s eta 0:00:01\r\u001b[K     |██████████████████████████████▋ | 2.5MB 22.8MB/s eta 0:00:01\r\u001b[K     |██████████████████████████████▊ | 2.5MB 22.8MB/s eta 0:00:01\r\u001b[K     |██████████████████████████████▉ | 2.5MB 22.8MB/s eta 0:00:01\r\u001b[K     |███████████████████████████████ | 2.5MB 22.8MB/s eta 0:00:01\r\u001b[K     |███████████████████████████████▏| 2.6MB 22.8MB/s eta 0:00:01\r\u001b[K     |███████████████████████████████▎| 2.6MB 22.8MB/s eta 0:00:01\r\u001b[K     |███████████████████████████████▍| 2.6MB 22.8MB/s eta 0:00:01\r\u001b[K     |███████████████████████████████▌| 2.6MB 22.8MB/s eta 0:00:01\r\u001b[K     |███████████████████████████████▋| 2.6MB 22.8MB/s eta 0:00:01\r\u001b[K     |███████████████████████████████▊| 2.6MB 22.8MB/s eta 0:00:01\r\u001b[K     |███████████████████████████████▉| 2.6MB 22.8MB/s eta 0:00:01\r\u001b[K     |████████████████████████████████| 2.6MB 22.8MB/s eta 0:00:01\r\u001b[K     |████████████████████████████████| 2.6MB 22.8MB/s \n",
            "\u001b[?25h"
          ],
          "name": "stdout"
        }
      ]
    },
    {
      "cell_type": "code",
      "metadata": {
        "colab": {
          "base_uri": "https://localhost:8080/"
        },
        "id": "b-P1ZOA0FkVJ",
        "outputId": "838cb8c6-7fd0-4b82-d4a2-5d959ad6ec36"
      },
      "source": [
        "!pip install -q tf-models-official\n",
        "!pip install transformers"
      ],
      "execution_count": 2,
      "outputs": [
        {
          "output_type": "stream",
          "text": [
            "\u001b[K     |████████████████████████████████| 849kB 22.2MB/s \n",
            "\u001b[K     |████████████████████████████████| 1.1MB 55.3MB/s \n",
            "\u001b[K     |████████████████████████████████| 36.7MB 86kB/s \n",
            "\u001b[K     |████████████████████████████████| 102kB 14.8MB/s \n",
            "\u001b[K     |████████████████████████████████| 174kB 56.8MB/s \n",
            "\u001b[K     |████████████████████████████████| 358kB 51.0MB/s \n",
            "\u001b[?25h  Building wheel for py-cpuinfo (setup.py) ... \u001b[?25l\u001b[?25hdone\n",
            "Collecting transformers\n",
            "\u001b[?25l  Downloading https://files.pythonhosted.org/packages/ed/db/98c3ea1a78190dac41c0127a063abf92bd01b4b0b6970a6db1c2f5b66fa0/transformers-4.0.1-py3-none-any.whl (1.4MB)\n",
            "\u001b[K     |████████████████████████████████| 1.4MB 14.6MB/s \n",
            "\u001b[?25hRequirement already satisfied: regex!=2019.12.17 in /usr/local/lib/python3.6/dist-packages (from transformers) (2019.12.20)\n",
            "Requirement already satisfied: dataclasses; python_version < \"3.7\" in /usr/local/lib/python3.6/dist-packages (from transformers) (0.8)\n",
            "Collecting sacremoses\n",
            "\u001b[?25l  Downloading https://files.pythonhosted.org/packages/7d/34/09d19aff26edcc8eb2a01bed8e98f13a1537005d31e95233fd48216eed10/sacremoses-0.0.43.tar.gz (883kB)\n",
            "\u001b[K     |████████████████████████████████| 890kB 43.8MB/s \n",
            "\u001b[?25hRequirement already satisfied: packaging in /usr/local/lib/python3.6/dist-packages (from transformers) (20.4)\n",
            "Requirement already satisfied: numpy in /usr/local/lib/python3.6/dist-packages (from transformers) (1.18.5)\n",
            "Requirement already satisfied: tqdm>=4.27 in /usr/local/lib/python3.6/dist-packages (from transformers) (4.41.1)\n",
            "Requirement already satisfied: requests in /usr/local/lib/python3.6/dist-packages (from transformers) (2.23.0)\n",
            "Collecting tokenizers==0.9.4\n",
            "\u001b[?25l  Downloading https://files.pythonhosted.org/packages/0f/1c/e789a8b12e28be5bc1ce2156cf87cb522b379be9cadc7ad8091a4cc107c4/tokenizers-0.9.4-cp36-cp36m-manylinux2010_x86_64.whl (2.9MB)\n",
            "\u001b[K     |████████████████████████████████| 2.9MB 54.8MB/s \n",
            "\u001b[?25hRequirement already satisfied: filelock in /usr/local/lib/python3.6/dist-packages (from transformers) (3.0.12)\n",
            "Requirement already satisfied: six in /usr/local/lib/python3.6/dist-packages (from sacremoses->transformers) (1.15.0)\n",
            "Requirement already satisfied: click in /usr/local/lib/python3.6/dist-packages (from sacremoses->transformers) (7.1.2)\n",
            "Requirement already satisfied: joblib in /usr/local/lib/python3.6/dist-packages (from sacremoses->transformers) (0.17.0)\n",
            "Requirement already satisfied: pyparsing>=2.0.2 in /usr/local/lib/python3.6/dist-packages (from packaging->transformers) (2.4.7)\n",
            "Requirement already satisfied: chardet<4,>=3.0.2 in /usr/local/lib/python3.6/dist-packages (from requests->transformers) (3.0.4)\n",
            "Requirement already satisfied: urllib3!=1.25.0,!=1.25.1,<1.26,>=1.21.1 in /usr/local/lib/python3.6/dist-packages (from requests->transformers) (1.24.3)\n",
            "Requirement already satisfied: certifi>=2017.4.17 in /usr/local/lib/python3.6/dist-packages (from requests->transformers) (2020.11.8)\n",
            "Requirement already satisfied: idna<3,>=2.5 in /usr/local/lib/python3.6/dist-packages (from requests->transformers) (2.10)\n",
            "Building wheels for collected packages: sacremoses\n",
            "  Building wheel for sacremoses (setup.py) ... \u001b[?25l\u001b[?25hdone\n",
            "  Created wheel for sacremoses: filename=sacremoses-0.0.43-cp36-none-any.whl size=893257 sha256=d590a27d678a16566afa1e59df66571a4ddcf7693590494b92aab606293bc748\n",
            "  Stored in directory: /root/.cache/pip/wheels/29/3c/fd/7ce5c3f0666dab31a50123635e6fb5e19ceb42ce38d4e58f45\n",
            "Successfully built sacremoses\n",
            "Installing collected packages: sacremoses, tokenizers, transformers\n",
            "Successfully installed sacremoses-0.0.43 tokenizers-0.9.4 transformers-4.0.1\n"
          ],
          "name": "stdout"
        }
      ]
    },
    {
      "cell_type": "code",
      "metadata": {
        "colab": {
          "base_uri": "https://localhost:8080/"
        },
        "id": "0E55bpG-DqlY",
        "outputId": "daf06698-ddf7-46f9-f16f-7bb711cde151"
      },
      "source": [
        "from google.colab import drive\n",
        "drive.mount('/content/drive')"
      ],
      "execution_count": 3,
      "outputs": [
        {
          "output_type": "stream",
          "text": [
            "Mounted at /content/drive\n"
          ],
          "name": "stdout"
        }
      ]
    },
    {
      "cell_type": "markdown",
      "metadata": {
        "id": "1Z-lrmswCJ_m"
      },
      "source": [
        "Imports"
      ]
    },
    {
      "cell_type": "code",
      "metadata": {
        "id": "b6WQ2fvlCQoL"
      },
      "source": [
        "import os\n",
        "import shutil\n",
        "import numpy as np\n",
        "import tensorflow as tf\n",
        "import tensorflow_hub as hub\n",
        "import tensorflow_text as text\n",
        "from official.nlp import optimization  # to create AdamW optmizer\n",
        "import pandas as pd \n",
        "from transformers import BertTokenizer, TFBertModel, BertConfig\n",
        "from sklearn.model_selection import train_test_split\n",
        "import matplotlib.pyplot as plt\n",
        "\n",
        "tf.get_logger().setLevel('ERROR')"
      ],
      "execution_count": 4,
      "outputs": []
    },
    {
      "cell_type": "code",
      "metadata": {
        "colab": {
          "base_uri": "https://localhost:8080/",
          "height": 35
        },
        "id": "f1gKGzxCPz3L",
        "outputId": "9edd26cf-c165-4894-a382-d00905e52e98"
      },
      "source": [
        "tf.__version__"
      ],
      "execution_count": 5,
      "outputs": [
        {
          "output_type": "execute_result",
          "data": {
            "application/vnd.google.colaboratory.intrinsic+json": {
              "type": "string"
            },
            "text/plain": [
              "'2.3.0'"
            ]
          },
          "metadata": {
            "tags": []
          },
          "execution_count": 5
        }
      ]
    },
    {
      "cell_type": "markdown",
      "metadata": {
        "id": "7ELzDZQvCvqW"
      },
      "source": [
        "Loading the train and test data"
      ]
    },
    {
      "cell_type": "code",
      "metadata": {
        "colab": {
          "base_uri": "https://localhost:8080/"
        },
        "id": "5dDJgGY6D3fs",
        "outputId": "b860a1fd-0c83-4da0-a27e-538f915ae6bb"
      },
      "source": [
        "train = pd.read_csv('/content/drive/MyDrive/work/NLP/DEEP_NLP/BERT/train.csv')\n",
        "train = train.dropna()\n",
        "train.shape"
      ],
      "execution_count": 6,
      "outputs": [
        {
          "output_type": "execute_result",
          "data": {
            "text/plain": [
              "(27480, 4)"
            ]
          },
          "metadata": {
            "tags": []
          },
          "execution_count": 6
        }
      ]
    },
    {
      "cell_type": "code",
      "metadata": {
        "colab": {
          "base_uri": "https://localhost:8080/"
        },
        "id": "bBedvKAJEbbB",
        "outputId": "ad81def3-4afb-4de3-f99f-b938083c5d51"
      },
      "source": [
        "test = pd.read_csv('/content/drive/MyDrive/work/NLP/DEEP_NLP/BERT/test.csv')\n",
        "test = test.dropna()\n",
        "test.shape"
      ],
      "execution_count": 7,
      "outputs": [
        {
          "output_type": "execute_result",
          "data": {
            "text/plain": [
              "(3534, 3)"
            ]
          },
          "metadata": {
            "tags": []
          },
          "execution_count": 7
        }
      ]
    },
    {
      "cell_type": "code",
      "metadata": {
        "id": "BdjGIpbfGZMg"
      },
      "source": [
        "# # for Debuging, traing on small data\n",
        "# train = train.loc[:5000]\n",
        "# test = test.loc[:1000]"
      ],
      "execution_count": 8,
      "outputs": []
    },
    {
      "cell_type": "code",
      "metadata": {
        "colab": {
          "base_uri": "https://localhost:8080/"
        },
        "id": "cWdMOENVDsIT",
        "outputId": "456b8137-418f-44b6-b623-8482b87bf2bd"
      },
      "source": [
        "train.isnull().sum().sum()"
      ],
      "execution_count": 9,
      "outputs": [
        {
          "output_type": "execute_result",
          "data": {
            "text/plain": [
              "0"
            ]
          },
          "metadata": {
            "tags": []
          },
          "execution_count": 9
        }
      ]
    },
    {
      "cell_type": "code",
      "metadata": {
        "id": "mwmGJ9NDDzYP"
      },
      "source": [
        "train = train.reset_index().drop(columns='index')"
      ],
      "execution_count": 10,
      "outputs": []
    },
    {
      "cell_type": "markdown",
      "metadata": {
        "id": "rqwGI5o3CH0s"
      },
      "source": [
        "# Preprocessing"
      ]
    },
    {
      "cell_type": "markdown",
      "metadata": {
        "id": "1PyJelJgDGLa"
      },
      "source": [
        "convert the text to ids, "
      ]
    },
    {
      "cell_type": "code",
      "metadata": {
        "colab": {
          "base_uri": "https://localhost:8080/",
          "height": 66,
          "referenced_widgets": [
            "06b717e42edc4288bb878622fccdb6dd",
            "960c85bd99164aba994e514e5c3243fc",
            "53e0c74ad26f4eae930850355d40bad6",
            "d688424f74724a238b7539ff78dc7613",
            "f87e4ec50e32406882634aaff5bd8367",
            "1ebe279f00e94e38ad8d2d2e21ac4cc9",
            "c3fb263c184d4fe390fdb89940044045",
            "b621bd4565934cdbb8a779aa76c675a1"
          ]
        },
        "id": "YB8na3rUDcc9",
        "outputId": "30ddf286-4d95-4194-8809-dbbac7ef8790"
      },
      "source": [
        "\n",
        "tokenizer = BertTokenizer.from_pretrained('bert-base-uncased', do_lower_case=True)"
      ],
      "execution_count": 11,
      "outputs": [
        {
          "output_type": "display_data",
          "data": {
            "application/vnd.jupyter.widget-view+json": {
              "model_id": "06b717e42edc4288bb878622fccdb6dd",
              "version_minor": 0,
              "version_major": 2
            },
            "text/plain": [
              "HBox(children=(FloatProgress(value=0.0, description='Downloading', max=231508.0, style=ProgressStyle(descripti…"
            ]
          },
          "metadata": {
            "tags": []
          }
        },
        {
          "output_type": "stream",
          "text": [
            "\n"
          ],
          "name": "stdout"
        }
      ]
    },
    {
      "cell_type": "code",
      "metadata": {
        "id": "idKb0TyzFrO3"
      },
      "source": [
        "positive_id = tokenizer(\"positive\")['input_ids'][1]\n",
        "neutral_id = tokenizer(\"neutral\")['input_ids'][1]\n",
        "negative_id = tokenizer(\"negative\")['input_ids'][1]\n"
      ],
      "execution_count": 12,
      "outputs": []
    },
    {
      "cell_type": "code",
      "metadata": {
        "id": "ZT6dviLDLQ2-"
      },
      "source": [
        "MAX_LEN = 192\n",
        "sentiment_id = {'positive': positive_id, 'negative': neutral_id, 'neutral': negative_id}"
      ],
      "execution_count": 13,
      "outputs": []
    },
    {
      "cell_type": "code",
      "metadata": {
        "id": "N7GdQTywfc83"
      },
      "source": [
        "def find_start_end_ids_selected_text(text, selected_text):\n",
        "    start_tokens = [0] * MAX_LEN\n",
        "    end_tokens = [0] * MAX_LEN\n",
        "\n",
        "    # FIND OVERLAP\n",
        "    text1 = \" \"+\" \".join(text)\n",
        "    text2 = \" \".join(selected_text)\n",
        "    idx = text1.find(text2)\n",
        "    chars = np.zeros((len(text1)))\n",
        "    chars[idx:idx+len(text2)]=1\n",
        "    if text1[idx-1]==' ': chars[idx-1] = 1 \n",
        "    enc = tokenizer(text1) \n",
        "    enc = enc['input_ids'][1:-1]\n",
        "        \n",
        "    # ID_OFFSETS\n",
        "    offsets = []; idx=0\n",
        "    for t in enc:\n",
        "        w = tokenizer.convert_ids_to_tokens([t])\n",
        "        w=w[0]\n",
        "        offsets.append((idx,idx+len(w)))\n",
        "        idx += len(w)\n",
        "    \n",
        "    # START END TOKENS\n",
        "    toks = []\n",
        "    for i,(a,b) in enumerate(offsets):\n",
        "        sm = np.sum(chars[a:b])\n",
        "        if sm>0: toks.append(i) \n",
        "        \n",
        "    if len(toks)>0:\n",
        "        start_tokens[toks[0]+1] = 1\n",
        "        end_tokens[toks[-1]+1] = 1\n",
        "\n",
        "    return start_tokens, end_tokens"
      ],
      "execution_count": 14,
      "outputs": []
    },
    {
      "cell_type": "code",
      "metadata": {
        "id": "Evq8ACgQ49vP"
      },
      "source": [
        "input_ids = []\n",
        "attention_mask = []\n",
        "token_type_ids = []\n",
        "start_tokens = []\n",
        "end_tokens = []\n",
        "\n",
        "for i in range(train.shape[0]):\n",
        "    encoded = tokenizer.encode_plus(\n",
        "      train.loc[i,'sentiment'],\n",
        "      train.loc[i,'text'],\n",
        "      add_special_tokens=True,\n",
        "      max_length=MAX_LEN,\n",
        "      padding='max_length',\n",
        "      pad_to_max_length=True,\n",
        "      return_token_type_ids=True,\n",
        "      return_attention_mask=True\n",
        "    )\n",
        "\n",
        "    input_ids.append(encoded['input_ids'])\n",
        "    attention_mask.append(encoded['attention_mask'])\n",
        "    token_type_ids.append(encoded['token_type_ids'])\n",
        "\n",
        "    # find start token and end token of 'selected text'\n",
        "    selected_start_token, selected_end_token = find_start_end_ids_selected_text(train.loc[i,'text'], train.loc[i,'selected_text'])\n",
        "    start_tokens.append(selected_start_token)\n",
        "    end_tokens.append(selected_end_token)\n",
        "\n",
        "# convert list of list to numpy 2d array\n",
        "input_ids = np.array(input_ids, dtype='int32')\n",
        "attention_mask = np.array(attention_mask, dtype='int32')\n",
        "token_type_ids = np.array(token_type_ids, dtype='int32')\n",
        "start_tokens = np.array(start_tokens, dtype='int32')\n",
        "end_tokens = np.array(end_tokens, dtype='int32')\n",
        "\n"
      ],
      "execution_count": 15,
      "outputs": []
    },
    {
      "cell_type": "code",
      "metadata": {
        "id": "Os3eBbsEfnTn"
      },
      "source": [
        "assert input_ids.shape == attention_mask.shape == token_type_ids.shape == start_tokens.shape == end_tokens.shape"
      ],
      "execution_count": 16,
      "outputs": []
    },
    {
      "cell_type": "markdown",
      "metadata": {
        "id": "JWlrELnSVr5T"
      },
      "source": [
        "prepare test data"
      ]
    },
    {
      "cell_type": "code",
      "metadata": {
        "id": "Fiqc2QUGZg1q"
      },
      "source": [
        "test = test.reset_index().drop(columns='index')"
      ],
      "execution_count": 17,
      "outputs": []
    },
    {
      "cell_type": "code",
      "metadata": {
        "id": "QP26W5xJVqal"
      },
      "source": [
        "input_ids_t = []\n",
        "attention_mask_t = []\n",
        "token_type_ids_t = []\n",
        "\n",
        "for i in range(train.shape[0]):\n",
        "    encoded = tokenizer.encode_plus(\n",
        "      train.loc[i,'sentiment'],\n",
        "      train.loc[i,'text'],\n",
        "      add_special_tokens=True,\n",
        "      max_length=MAX_LEN,\n",
        "      padding='max_length',\n",
        "      pad_to_max_length=True,\n",
        "      return_token_type_ids=True,\n",
        "      return_attention_mask=True\n",
        "    )\n",
        "\n",
        "    input_ids_t.append(encoded['input_ids'])\n",
        "    attention_mask_t.append(encoded['attention_mask'])\n",
        "    token_type_ids_t.append(encoded['token_type_ids'])\n",
        "\n",
        "# convert list of list to numpy 2d array\n",
        "input_ids_t = np.array(input_ids_t, dtype='int32')\n",
        "attention_mask_t = np.array(attention_mask_t, dtype='int32')\n",
        "token_type_ids_t = np.array(token_type_ids_t, dtype='int32')\n",
        "\n"
      ],
      "execution_count": 18,
      "outputs": []
    },
    {
      "cell_type": "markdown",
      "metadata": {
        "id": "DjCSNJicGtFm"
      },
      "source": [
        "Define function the create validation dataset"
      ]
    },
    {
      "cell_type": "code",
      "metadata": {
        "id": "A_8eKdV7Hwgw"
      },
      "source": [
        "def split_to_train_and_validation(val_ratio, input_ids, attention_mask, token_type_ids, start_tokens, end_tokens):\n",
        "    val_size = int(val_ratio*input_ids.shape[0])\n",
        "\n",
        "    train_dict = dict()\n",
        "    val_dict = dict()\n",
        "\n",
        "    train_dict[\"input_ids\"] = input_ids[:-val_size]\n",
        "    train_dict[\"attention_mask\"] = attention_mask[:-val_size]\n",
        "    train_dict[\"token_type_ids\"] = token_type_ids[:-val_size]\n",
        "    train_dict[\"start_tokens\"] = start_tokens[:-val_size]\n",
        "    train_dict[\"end_tokens\"] = end_tokens[:-val_size]\n",
        "\n",
        "    val_dict[\"input_ids\"] = input_ids[-val_size:]\n",
        "    val_dict[\"attention_mask\"] = attention_mask[-val_size:]\n",
        "    val_dict[\"token_type_ids\"] = token_type_ids[-val_size:]\n",
        "    val_dict[\"start_tokens\"] = start_tokens[-val_size:]\n",
        "    val_dict[\"end_tokens\"] = end_tokens[-val_size:]\n",
        "\n",
        "    return train_dict, val_dict\n"
      ],
      "execution_count": 19,
      "outputs": []
    },
    {
      "cell_type": "code",
      "metadata": {
        "id": "5P5foRj_GfLP"
      },
      "source": [
        "train_dict, val_dict = split_to_train_and_validation(0.25, input_ids, attention_mask, token_type_ids, start_tokens, end_tokens)"
      ],
      "execution_count": 20,
      "outputs": []
    },
    {
      "cell_type": "markdown",
      "metadata": {
        "id": "j1NALtS8FjoY"
      },
      "source": [
        "# Modeling"
      ]
    },
    {
      "cell_type": "code",
      "metadata": {
        "id": "Dh3HzlKzTzBX"
      },
      "source": [
        "configuration = BertConfig()  # default parameters and configuration for BERT"
      ],
      "execution_count": 21,
      "outputs": []
    },
    {
      "cell_type": "code",
      "metadata": {
        "id": "YlSq61sCEqZT"
      },
      "source": [
        "def build_qa_model():\n",
        "    ids = tf.keras.layers.Input((MAX_LEN,), dtype=tf.int32, name=\"input_word_ids\")\n",
        "    att = tf.keras.layers.Input((MAX_LEN,), dtype=tf.int32, name=\"input_mask\")\n",
        "    tok = tf.keras.layers.Input((MAX_LEN,), dtype=tf.int32, name=\"segment_ids\")\n",
        "\n",
        "    bert_encoder = TFBertModel.from_pretrained(\"bert-base-uncased\",config=configuration )\n",
        "    x = bert_encoder(\n",
        "        ids, attention_mask=att, token_type_ids=tok)\n",
        "    \n",
        "    x1 = tf.keras.layers.Dropout(0.1)(x[0]) \n",
        "    x1 = tf.keras.layers.Conv1D(1,1)(x1)\n",
        "    x1 = tf.keras.layers.Flatten()(x1)\n",
        "    x1 = tf.keras.layers.Activation('softmax')(x1)\n",
        "    \n",
        "    x2 = tf.keras.layers.Dropout(0.1)(x[0]) \n",
        "    x2 = tf.keras.layers.Conv1D(1,1)(x2)\n",
        "    x2 = tf.keras.layers.Flatten()(x2)\n",
        "    x2 = tf.keras.layers.Activation('softmax')(x2)\n",
        "\n",
        "    \n",
        "    return tf.keras.models.Model(inputs=[ids, att, tok], outputs=[x1,x2])"
      ],
      "execution_count": 22,
      "outputs": []
    },
    {
      "cell_type": "code",
      "metadata": {
        "colab": {
          "base_uri": "https://localhost:8080/",
          "height": 170,
          "referenced_widgets": [
            "a97c9bf4678e4b37bf0a43344011f9ee",
            "036d402b53164745be199d0dff4bc1e1",
            "60c8df9e0be64a258f90ac8f81aa6dce",
            "2e7b67adde3f45d4bf13778830b3b04d",
            "88efcd1ba98f44a18f598555cddee870",
            "c78ccb1bf85d485f83e94056845f1691",
            "623efa27dbae48b284952eab2cbf1e95",
            "c3b859d07353454abf80dae10ef5900d"
          ]
        },
        "id": "jNdz43NHEqcG",
        "outputId": "b3a30e26-c67c-488c-9efb-1678f15ee636"
      },
      "source": [
        "qa_model = build_qa_model()"
      ],
      "execution_count": 23,
      "outputs": [
        {
          "output_type": "display_data",
          "data": {
            "application/vnd.jupyter.widget-view+json": {
              "model_id": "a97c9bf4678e4b37bf0a43344011f9ee",
              "version_minor": 0,
              "version_major": 2
            },
            "text/plain": [
              "HBox(children=(FloatProgress(value=0.0, description='Downloading', max=536063208.0, style=ProgressStyle(descri…"
            ]
          },
          "metadata": {
            "tags": []
          }
        },
        {
          "output_type": "stream",
          "text": [
            "\n"
          ],
          "name": "stdout"
        },
        {
          "output_type": "stream",
          "text": [
            "Some layers from the model checkpoint at bert-base-uncased were not used when initializing TFBertModel: ['mlm___cls', 'nsp___cls']\n",
            "- This IS expected if you are initializing TFBertModel from the checkpoint of a model trained on another task or with another architecture (e.g. initializing a BertForSequenceClassification model from a BertForPreTraining model).\n",
            "- This IS NOT expected if you are initializing TFBertModel from the checkpoint of a model that you expect to be exactly identical (initializing a BertForSequenceClassification model from a BertForSequenceClassification model).\n",
            "All the layers of TFBertModel were initialized from the model checkpoint at bert-base-uncased.\n",
            "If your task is similar to the task the model of the checkpoint was trained on, you can already use TFBertModel for predictions without further training.\n"
          ],
          "name": "stderr"
        }
      ]
    },
    {
      "cell_type": "code",
      "metadata": {
        "colab": {
          "base_uri": "https://localhost:8080/",
          "height": 456
        },
        "id": "Retv47n8GDBB",
        "outputId": "6a51ac87-3368-4f69-e2fe-aa47b73073ce"
      },
      "source": [
        "tf.keras.utils.plot_model(qa_model)"
      ],
      "execution_count": 24,
      "outputs": [
        {
          "output_type": "execute_result",
          "data": {
            "image/png": "[encoded data removed]",
            "text/plain": [
              "<IPython.core.display.Image object>"
            ]
          },
          "metadata": {
            "tags": []
          },
          "execution_count": 24
        }
      ]
    },
    {
      "cell_type": "markdown",
      "metadata": {
        "id": "HUMZQvKMGhFS"
      },
      "source": [
        "Model training"
      ]
    },
    {
      "cell_type": "code",
      "metadata": {
        "id": "Rcu0GvoLGh2F"
      },
      "source": [
        "epochs = 4\n",
        "batch_size = 32\n",
        "optimizer = tf.keras.optimizers.Adam(learning_rate=3e-5)"
      ],
      "execution_count": 25,
      "outputs": []
    },
    {
      "cell_type": "markdown",
      "metadata": {
        "id": "RBrKH_qJGpqe"
      },
      "source": [
        "Loading the BERT model and training"
      ]
    },
    {
      "cell_type": "code",
      "metadata": {
        "id": "SX8yn9vlGh4k"
      },
      "source": [
        "qa_model.compile(loss='categorical_crossentropy', optimizer=optimizer)"
      ],
      "execution_count": 26,
      "outputs": []
    },
    {
      "cell_type": "code",
      "metadata": {
        "colab": {
          "base_uri": "https://localhost:8080/"
        },
        "id": "cg4CGjiQGh7R",
        "outputId": "2fa6d916-ebcc-4dab-9cf4-6552f10661eb"
      },
      "source": [
        "\n",
        "history = qa_model.fit(x=[train_dict.get(\"input_ids\"), train_dict.get(\"attention_mask\"), train_dict.get(\"token_type_ids\")],\n",
        "                       y=[train_dict.get(\"start_tokens\"),train_dict.get(\"end_tokens\")],\n",
        "                       validation_data = ([val_dict.get(\"input_ids\"), val_dict.get(\"attention_mask\"), val_dict.get(\"token_type_ids\")], [val_dict.get(\"start_tokens\"),val_dict.get(\"end_tokens\")]),\n",
        "                       epochs=epochs,\n",
        "                       batch_size=batch_size)\n"
      ],
      "execution_count": 27,
      "outputs": [
        {
          "output_type": "stream",
          "text": [
            "Epoch 1/4\n",
            "645/645 [==============================] - 921s 1s/step - loss: 4.7588 - activation_4_loss: 1.6170 - activation_5_loss: 3.1418 - val_loss: 4.0501 - val_activation_4_loss: 1.3835 - val_activation_5_loss: 2.6665\n",
            "Epoch 2/4\n",
            "645/645 [==============================] - 921s 1s/step - loss: 4.0091 - activation_4_loss: 1.3521 - activation_5_loss: 2.6569 - val_loss: 3.6450 - val_activation_4_loss: 1.2580 - val_activation_5_loss: 2.3870\n",
            "Epoch 3/4\n",
            "645/645 [==============================] - 921s 1s/step - loss: 3.6542 - activation_4_loss: 1.2090 - activation_5_loss: 2.4453 - val_loss: 3.4906 - val_activation_4_loss: 1.2581 - val_activation_5_loss: 2.2325\n",
            "Epoch 4/4\n",
            "645/645 [==============================] - 921s 1s/step - loss: 3.3806 - activation_4_loss: 1.0726 - activation_5_loss: 2.3081 - val_loss: 3.3627 - val_activation_4_loss: 1.2820 - val_activation_5_loss: 2.0807\n"
          ],
          "name": "stdout"
        }
      ]
    },
    {
      "cell_type": "markdown",
      "metadata": {
        "id": "-r5jqZq0G_rC"
      },
      "source": [
        "# Evaluate The Model"
      ]
    },
    {
      "cell_type": "markdown",
      "metadata": {
        "id": "dyewVQKwi9b-"
      },
      "source": [
        " predict"
      ]
    },
    {
      "cell_type": "code",
      "metadata": {
        "id": "5OzsPme4G35I"
      },
      "source": [
        "preds = qa_model.predict([input_ids,attention_mask,token_type_ids])"
      ],
      "execution_count": 28,
      "outputs": []
    },
    {
      "cell_type": "code",
      "metadata": {
        "id": "8ytrYrosjHcm"
      },
      "source": [
        "pred_start = preds[0]\n",
        "pred_end = preds[1]\n",
        "\n",
        "for k in range(train.shape[0]):\n",
        "    a = np.argmax(pred_start[k])\n",
        "    b = np.argmax(pred_end[k])\n",
        "\n",
        "    if a>b: \n",
        "        st = train.loc[k,'text'] # IMPROVE CV/LB with better choice here\n",
        "    else:\n",
        "        text1 = \" \"+\" \".join(train.loc[k,'text'].split())\n",
        "        enc = tokenizer(text1)\n",
        "        enc = enc['input_ids']   \n",
        "        st = tokenizer.convert_ids_to_tokens(enc[a-1:b])          \n",
        "\n",
        "        train.loc[k, \"pred_selected_text\"] = \" \".join(st)"
      ],
      "execution_count": 29,
      "outputs": []
    },
    {
      "cell_type": "code",
      "metadata": {
        "id": "4QJ42Mtyi8TR"
      },
      "source": [
        "def jaccard_similarity(list1, list2):\n",
        "    intersection = len(list(set(list1).intersection(list2)))\n",
        "    union = (len(list1) + len(list2)) - intersection\n",
        "    return float(intersection) / union\n",
        "\n",
        "\n",
        "def jaccard_score(selected_text, pred_selected_text):\n",
        "    all_scores = []\n",
        "    for x, y in zip(selected_text, pred_selected_text):\n",
        "        try:\n",
        "            temp_score = jaccard_similarity(x,  y)\n",
        "        except:\n",
        "            temp_score = 0\n",
        "\n",
        "        all_scores.append(temp_score)\n",
        "\n",
        "    return sum(all_scores) / len(all_scores)\n",
        "    \n",
        "\n",
        "\n"
      ],
      "execution_count": 32,
      "outputs": []
    },
    {
      "cell_type": "code",
      "metadata": {
        "id": "UnuWlSrzYywZ"
      },
      "source": [
        "val_size = val_dict[\"input_ids\"].shape[0]"
      ],
      "execution_count": 41,
      "outputs": []
    },
    {
      "cell_type": "code",
      "metadata": {
        "id": "0QfU5OqHYjX9",
        "outputId": "8ba39a71-3820-4ed8-f0af-e26e70167c5d",
        "colab": {
          "base_uri": "https://localhost:8080/"
        }
      },
      "source": [
        "# train - jaccard score\r\n",
        "jaccard_score(train[\"selected_text\"][-val_size:], train[\"pred_selected_text\"][-val_size:])"
      ],
      "execution_count": 42,
      "outputs": [
        {
          "output_type": "execute_result",
          "data": {
            "text/plain": [
              "0.14024854896099942"
            ]
          },
          "metadata": {
            "tags": []
          },
          "execution_count": 42
        }
      ]
    },
    {
      "cell_type": "code",
      "metadata": {
        "colab": {
          "base_uri": "https://localhost:8080/"
        },
        "id": "pGL4VkUEmppg",
        "outputId": "05e6fd3d-0137-43be-df46-62df6287be28"
      },
      "source": [
        "# validation - jaccard score\r\n",
        "jaccard_score(train[\"selected_text\"][:-val_size], train[\"pred_selected_text\"][:-val_size])"
      ],
      "execution_count": 43,
      "outputs": [
        {
          "output_type": "execute_result",
          "data": {
            "text/plain": [
              "0.13998422065082894"
            ]
          },
          "metadata": {
            "tags": []
          },
          "execution_count": 43
        }
      ]
    },
    {
      "cell_type": "markdown",
      "metadata": {
        "id": "ctXz26GNHISt"
      },
      "source": [
        "Plot the accuracy and loss over time"
      ]
    },
    {
      "cell_type": "code",
      "metadata": {
        "id": "0mv5FUhEHJcB",
        "colab": {
          "base_uri": "https://localhost:8080/"
        },
        "outputId": "fef40434-c1e5-4c15-f2e6-3fad90c7b126"
      },
      "source": [
        "history_dict = history.history\n",
        "print(history_dict.keys())\n"
      ],
      "execution_count": 44,
      "outputs": [
        {
          "output_type": "stream",
          "text": [
            "dict_keys(['loss', 'activation_4_loss', 'activation_5_loss', 'val_loss', 'val_activation_4_loss', 'val_activation_5_loss'])\n"
          ],
          "name": "stdout"
        }
      ]
    },
    {
      "cell_type": "code",
      "metadata": {
        "id": "YISqwT0kg7QA",
        "colab": {
          "base_uri": "https://localhost:8080/",
          "height": 404
        },
        "outputId": "b589b5db-544a-45a5-d210-c919b1930362"
      },
      "source": [
        "\n",
        "train_loss = history_dict['loss']\n",
        "val_loss = history_dict['val_loss']\n",
        "\n",
        "epochs = range(1, len(train_loss) + 1)\n",
        "fig = plt.figure(figsize=(10, 6))\n",
        "fig.tight_layout()\n",
        "\n",
        "plt.plot(epochs, train_loss, 'r', label='train loss')\n",
        "plt.plot(epochs, val_loss, 'b', label='val loss')\n",
        "plt.title('loss categorical_crossentropy')\n",
        "plt.xlabel('Epochs')\n",
        "plt.ylabel('loss')\n",
        "plt.legend(loc='lower right');"
      ],
      "execution_count": 48,
      "outputs": [
        {
          "output_type": "display_data",
          "data": {
            "image/png": "[encoded data removed]",
            "text/plain": [
              "<Figure size 720x432 with 1 Axes>"
            ]
          },
          "metadata": {
            "tags": [],
            "needs_background": "light"
          }
        }
      ]
    },
    {
      "cell_type": "code",
      "metadata": {
        "id": "epzPkyrMGmTS"
      },
      "source": [
        ""
      ],
      "execution_count": null,
      "outputs": []
    }
  ]
}